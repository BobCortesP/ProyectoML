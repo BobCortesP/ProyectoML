{
 "cells": [
  {
   "cell_type": "markdown",
   "id": "90ab8cff",
   "metadata": {},
   "source": [
    "# Introducción y Análisis"
   ]
  },
  {
   "cell_type": "code",
   "execution_count": 1,
   "id": "b35de83b",
   "metadata": {},
   "outputs": [],
   "source": [
    "# Librerias\n",
    "import numpy as np\n",
    "import keras\n",
    "import pandas as pd\n",
    "import datetime\n",
    "import matplotlib.pyplot as plt\n",
    "import seaborn as sns\n",
    "import tensorflow as tf\n",
    "from sklearn.model_selection import train_test_split\n",
    "from keras.utils import pad_sequences\n",
    "from tensorflow.keras.preprocessing.text import Tokenizer\n",
    "from keras.layers import Dense, Input, Embedding, Flatten\n",
    "from keras.models import Sequential\n",
    "from keras.layers import Flatten\n",
    "import keras_tuner\n",
    "from sklearn.linear_model import LogisticRegression\n",
    "from sklearn.tree import DecisionTreeClassifier\n",
    "from sklearn.ensemble import RandomForestClassifier\n",
    "from sklearn.metrics import accuracy_score, precision_score, recall_score, f1_score, confusion_matrix, auc, roc_curve, precision_recall_curve\n",
    "from sklearn.preprocessing import LabelEncoder, OneHotEncoder, label_binarize\n",
    "\n"
   ]
  },
  {
   "cell_type": "markdown",
   "id": "a222be64",
   "metadata": {},
   "source": [
    "Se leen los datos del .csv"
   ]
  },
  {
   "cell_type": "code",
   "execution_count": 2,
   "id": "6ee86e87",
   "metadata": {},
   "outputs": [
    {
     "data": {
      "text/html": [
       "<div>\n",
       "<style scoped>\n",
       "    .dataframe tbody tr th:only-of-type {\n",
       "        vertical-align: middle;\n",
       "    }\n",
       "\n",
       "    .dataframe tbody tr th {\n",
       "        vertical-align: top;\n",
       "    }\n",
       "\n",
       "    .dataframe thead th {\n",
       "        text-align: right;\n",
       "    }\n",
       "</style>\n",
       "<table border=\"1\" class=\"dataframe\">\n",
       "  <thead>\n",
       "    <tr style=\"text-align: right;\">\n",
       "      <th></th>\n",
       "      <th>Diag01</th>\n",
       "      <th>Diag02</th>\n",
       "      <th>Diag03</th>\n",
       "      <th>Diag04</th>\n",
       "      <th>Diag05</th>\n",
       "      <th>Diag06</th>\n",
       "      <th>Diag07</th>\n",
       "      <th>Diag08</th>\n",
       "      <th>Diag09</th>\n",
       "      <th>Diag10</th>\n",
       "      <th>...</th>\n",
       "      <th>Proced24</th>\n",
       "      <th>Proced25</th>\n",
       "      <th>Proced26</th>\n",
       "      <th>Proced27</th>\n",
       "      <th>Proced28</th>\n",
       "      <th>Proced29</th>\n",
       "      <th>Proced30</th>\n",
       "      <th>Edad en años</th>\n",
       "      <th>Sexo (Desc)</th>\n",
       "      <th>GRD</th>\n",
       "    </tr>\n",
       "  </thead>\n",
       "  <tbody>\n",
       "    <tr>\n",
       "      <th>0</th>\n",
       "      <td>A41.8</td>\n",
       "      <td>B37.6</td>\n",
       "      <td>I39.8</td>\n",
       "      <td>N10</td>\n",
       "      <td>B96.1</td>\n",
       "      <td>L89.9</td>\n",
       "      <td>L08.9</td>\n",
       "      <td>B96.2</td>\n",
       "      <td>A41.5</td>\n",
       "      <td>J86.9</td>\n",
       "      <td>...</td>\n",
       "      <td>99.84</td>\n",
       "      <td>88.72</td>\n",
       "      <td>90.42</td>\n",
       "      <td>90.52</td>\n",
       "      <td>91.39</td>\n",
       "      <td>91.33</td>\n",
       "      <td>87.03</td>\n",
       "      <td>40</td>\n",
       "      <td>0</td>\n",
       "      <td>184103</td>\n",
       "    </tr>\n",
       "    <tr>\n",
       "      <th>1</th>\n",
       "      <td>U07.1</td>\n",
       "      <td>J12.8</td>\n",
       "      <td>R06.0</td>\n",
       "      <td>R05</td>\n",
       "      <td>R50.9</td>\n",
       "      <td>Z29.0</td>\n",
       "      <td>Z01.7</td>\n",
       "      <td>J96.00</td>\n",
       "      <td>J94.2</td>\n",
       "      <td>J92.9</td>\n",
       "      <td>...</td>\n",
       "      <td>91.62</td>\n",
       "      <td>90.43</td>\n",
       "      <td>91.39</td>\n",
       "      <td>90.52</td>\n",
       "      <td>91.32</td>\n",
       "      <td>96.59</td>\n",
       "      <td>90.99</td>\n",
       "      <td>53</td>\n",
       "      <td>0</td>\n",
       "      <td>041013</td>\n",
       "    </tr>\n",
       "    <tr>\n",
       "      <th>2</th>\n",
       "      <td>K56.5</td>\n",
       "      <td>R57.2</td>\n",
       "      <td>R57.1</td>\n",
       "      <td>J80</td>\n",
       "      <td>Y95</td>\n",
       "      <td>J15.0</td>\n",
       "      <td>U82.2</td>\n",
       "      <td>B95.6</td>\n",
       "      <td>B96.8</td>\n",
       "      <td>B37.1</td>\n",
       "      <td>...</td>\n",
       "      <td>99.84</td>\n",
       "      <td>91.73</td>\n",
       "      <td>90.53</td>\n",
       "      <td>99.26</td>\n",
       "      <td>89.39</td>\n",
       "      <td>89.66</td>\n",
       "      <td>89.65</td>\n",
       "      <td>65</td>\n",
       "      <td>0</td>\n",
       "      <td>041013</td>\n",
       "    </tr>\n",
       "    <tr>\n",
       "      <th>3</th>\n",
       "      <td>K76.8</td>\n",
       "      <td>K66.1</td>\n",
       "      <td>N18.5</td>\n",
       "      <td>D64.9</td>\n",
       "      <td>E87.5</td>\n",
       "      <td>E87.2</td>\n",
       "      <td>J81</td>\n",
       "      <td>N17.8</td>\n",
       "      <td>J44.9</td>\n",
       "      <td>R41.0</td>\n",
       "      <td>...</td>\n",
       "      <td>57.94</td>\n",
       "      <td>00.13</td>\n",
       "      <td>00.17</td>\n",
       "      <td>99.04</td>\n",
       "      <td>99.18</td>\n",
       "      <td>99.21</td>\n",
       "      <td>99.23</td>\n",
       "      <td>61</td>\n",
       "      <td>0</td>\n",
       "      <td>041023</td>\n",
       "    </tr>\n",
       "    <tr>\n",
       "      <th>4</th>\n",
       "      <td>T81.0</td>\n",
       "      <td>Y83.2</td>\n",
       "      <td>S31.1</td>\n",
       "      <td>S36.80</td>\n",
       "      <td>W31.62</td>\n",
       "      <td>J96.09</td>\n",
       "      <td>J15.0</td>\n",
       "      <td>U82.2</td>\n",
       "      <td>U07.1</td>\n",
       "      <td>N39.0</td>\n",
       "      <td>...</td>\n",
       "      <td>90.52</td>\n",
       "      <td>91.39</td>\n",
       "      <td>91.32</td>\n",
       "      <td>93.90</td>\n",
       "      <td>99.15</td>\n",
       "      <td>96.59</td>\n",
       "      <td>45.13</td>\n",
       "      <td>30</td>\n",
       "      <td>0</td>\n",
       "      <td>041023</td>\n",
       "    </tr>\n",
       "    <tr>\n",
       "      <th>5</th>\n",
       "      <td>U07.1</td>\n",
       "      <td>J12.8</td>\n",
       "      <td>R06.0</td>\n",
       "      <td>R50.9</td>\n",
       "      <td>R53</td>\n",
       "      <td>R05</td>\n",
       "      <td>Z29.0</td>\n",
       "      <td>Z01.7</td>\n",
       "      <td>J96.00</td>\n",
       "      <td>J80</td>\n",
       "      <td>...</td>\n",
       "      <td>57.94</td>\n",
       "      <td>00.17</td>\n",
       "      <td>89.39</td>\n",
       "      <td>96.6</td>\n",
       "      <td>99.26</td>\n",
       "      <td>91.82</td>\n",
       "      <td>90.99</td>\n",
       "      <td>49</td>\n",
       "      <td>1</td>\n",
       "      <td>041013</td>\n",
       "    </tr>\n",
       "    <tr>\n",
       "      <th>6</th>\n",
       "      <td>U07.1</td>\n",
       "      <td>J12.8</td>\n",
       "      <td>R06.0</td>\n",
       "      <td>R05</td>\n",
       "      <td>Z29.0</td>\n",
       "      <td>Z01.7</td>\n",
       "      <td>J96.09</td>\n",
       "      <td>J80</td>\n",
       "      <td>J15.1</td>\n",
       "      <td>A41.8</td>\n",
       "      <td>...</td>\n",
       "      <td>91.32</td>\n",
       "      <td>99.18</td>\n",
       "      <td>93.94</td>\n",
       "      <td>99.21</td>\n",
       "      <td>00.17</td>\n",
       "      <td>99.29</td>\n",
       "      <td>99.19</td>\n",
       "      <td>55</td>\n",
       "      <td>0</td>\n",
       "      <td>041013</td>\n",
       "    </tr>\n",
       "    <tr>\n",
       "      <th>7</th>\n",
       "      <td>U07.1</td>\n",
       "      <td>J12.8</td>\n",
       "      <td>J96.09</td>\n",
       "      <td>J80</td>\n",
       "      <td>R06.0</td>\n",
       "      <td>R50.9</td>\n",
       "      <td>R05</td>\n",
       "      <td>M79.19</td>\n",
       "      <td>Z29.0</td>\n",
       "      <td>Z01.7</td>\n",
       "      <td>...</td>\n",
       "      <td>99.17</td>\n",
       "      <td>99.18</td>\n",
       "      <td>99.19</td>\n",
       "      <td>99.21</td>\n",
       "      <td>99.23</td>\n",
       "      <td>99.26</td>\n",
       "      <td>99.29</td>\n",
       "      <td>33</td>\n",
       "      <td>1</td>\n",
       "      <td>041013</td>\n",
       "    </tr>\n",
       "    <tr>\n",
       "      <th>8</th>\n",
       "      <td>U07.1</td>\n",
       "      <td>J12.8</td>\n",
       "      <td>J80</td>\n",
       "      <td>Z20.8</td>\n",
       "      <td>Z29.0</td>\n",
       "      <td>Z01.7</td>\n",
       "      <td>T81.4</td>\n",
       "      <td>Y83.6</td>\n",
       "      <td>K85.9</td>\n",
       "      <td>K65.0</td>\n",
       "      <td>...</td>\n",
       "      <td>99.04</td>\n",
       "      <td>99.18</td>\n",
       "      <td>99.19</td>\n",
       "      <td>99.21</td>\n",
       "      <td>99.26</td>\n",
       "      <td>99.29</td>\n",
       "      <td>93.01</td>\n",
       "      <td>37</td>\n",
       "      <td>1</td>\n",
       "      <td>041023</td>\n",
       "    </tr>\n",
       "    <tr>\n",
       "      <th>9</th>\n",
       "      <td>U07.1</td>\n",
       "      <td>J12.8</td>\n",
       "      <td>J96.00</td>\n",
       "      <td>R50.9</td>\n",
       "      <td>R11</td>\n",
       "      <td>R05</td>\n",
       "      <td>M79.19</td>\n",
       "      <td>R07.0</td>\n",
       "      <td>A09.9</td>\n",
       "      <td>Z29.0</td>\n",
       "      <td>...</td>\n",
       "      <td>99.26</td>\n",
       "      <td>99.29</td>\n",
       "      <td>93.01</td>\n",
       "      <td>93.09</td>\n",
       "      <td>93.11</td>\n",
       "      <td>93.12</td>\n",
       "      <td>93.13</td>\n",
       "      <td>59</td>\n",
       "      <td>0</td>\n",
       "      <td>041023</td>\n",
       "    </tr>\n",
       "    <tr>\n",
       "      <th>10</th>\n",
       "      <td>U07.1</td>\n",
       "      <td>J12.8</td>\n",
       "      <td>J96.00</td>\n",
       "      <td>R06.0</td>\n",
       "      <td>Z29.0</td>\n",
       "      <td>Z01.7</td>\n",
       "      <td>J15.1</td>\n",
       "      <td>J85.0</td>\n",
       "      <td>I26.9</td>\n",
       "      <td>G62.8</td>\n",
       "      <td>...</td>\n",
       "      <td>99.23</td>\n",
       "      <td>99.26</td>\n",
       "      <td>99.29</td>\n",
       "      <td>93.01</td>\n",
       "      <td>93.09</td>\n",
       "      <td>93.11</td>\n",
       "      <td>93.12</td>\n",
       "      <td>50</td>\n",
       "      <td>0</td>\n",
       "      <td>041013</td>\n",
       "    </tr>\n",
       "    <tr>\n",
       "      <th>11</th>\n",
       "      <td>J86.9</td>\n",
       "      <td>B96.1</td>\n",
       "      <td>U82.2</td>\n",
       "      <td>T81.4</td>\n",
       "      <td>Y84.8</td>\n",
       "      <td>J94.2</td>\n",
       "      <td>N39.0</td>\n",
       "      <td>N41.0</td>\n",
       "      <td>K85.8</td>\n",
       "      <td>J93.9</td>\n",
       "      <td>...</td>\n",
       "      <td>99.04</td>\n",
       "      <td>99.18</td>\n",
       "      <td>99.19</td>\n",
       "      <td>99.21</td>\n",
       "      <td>99.23</td>\n",
       "      <td>99.26</td>\n",
       "      <td>99.29</td>\n",
       "      <td>63</td>\n",
       "      <td>0</td>\n",
       "      <td>041303</td>\n",
       "    </tr>\n",
       "    <tr>\n",
       "      <th>12</th>\n",
       "      <td>F20.6</td>\n",
       "      <td>F14.2</td>\n",
       "      <td>F10.2</td>\n",
       "      <td></td>\n",
       "      <td></td>\n",
       "      <td></td>\n",
       "      <td></td>\n",
       "      <td></td>\n",
       "      <td></td>\n",
       "      <td></td>\n",
       "      <td>...</td>\n",
       "      <td></td>\n",
       "      <td></td>\n",
       "      <td></td>\n",
       "      <td></td>\n",
       "      <td></td>\n",
       "      <td></td>\n",
       "      <td></td>\n",
       "      <td>30</td>\n",
       "      <td>1</td>\n",
       "      <td>194101</td>\n",
       "    </tr>\n",
       "    <tr>\n",
       "      <th>13</th>\n",
       "      <td>N18.5</td>\n",
       "      <td>E83.5</td>\n",
       "      <td>E83.3</td>\n",
       "      <td>E11.7</td>\n",
       "      <td>I79.2</td>\n",
       "      <td>H36.0</td>\n",
       "      <td>I10</td>\n",
       "      <td>I50.9</td>\n",
       "      <td>D64.9</td>\n",
       "      <td>A49.8</td>\n",
       "      <td>...</td>\n",
       "      <td>94.11</td>\n",
       "      <td>90.53</td>\n",
       "      <td>99.84</td>\n",
       "      <td>90.39</td>\n",
       "      <td>93.01</td>\n",
       "      <td>93.18</td>\n",
       "      <td>93.99</td>\n",
       "      <td>66</td>\n",
       "      <td>0</td>\n",
       "      <td>114102</td>\n",
       "    </tr>\n",
       "    <tr>\n",
       "      <th>14</th>\n",
       "      <td>N17.0</td>\n",
       "      <td>K80.3</td>\n",
       "      <td>U07.1</td>\n",
       "      <td>J96.09</td>\n",
       "      <td>I48.0</td>\n",
       "      <td>R57.0</td>\n",
       "      <td>A41.8</td>\n",
       "      <td>B96.1</td>\n",
       "      <td>Y95</td>\n",
       "      <td>U82.2</td>\n",
       "      <td>...</td>\n",
       "      <td>88.01</td>\n",
       "      <td>88.43</td>\n",
       "      <td>87.03</td>\n",
       "      <td>88.38</td>\n",
       "      <td>87.44</td>\n",
       "      <td>45.13</td>\n",
       "      <td>45.23</td>\n",
       "      <td>77</td>\n",
       "      <td>1</td>\n",
       "      <td>041023</td>\n",
       "    </tr>\n",
       "    <tr>\n",
       "      <th>15</th>\n",
       "      <td>I20.0</td>\n",
       "      <td>I25.1</td>\n",
       "      <td>I50.0</td>\n",
       "      <td>I70.20</td>\n",
       "      <td>I65.2</td>\n",
       "      <td>I70.80</td>\n",
       "      <td>I77.8</td>\n",
       "      <td>I25.2</td>\n",
       "      <td>I10</td>\n",
       "      <td>U07.1</td>\n",
       "      <td>...</td>\n",
       "      <td>89.7</td>\n",
       "      <td></td>\n",
       "      <td></td>\n",
       "      <td></td>\n",
       "      <td></td>\n",
       "      <td></td>\n",
       "      <td></td>\n",
       "      <td>69</td>\n",
       "      <td>0</td>\n",
       "      <td>054203</td>\n",
       "    </tr>\n",
       "    <tr>\n",
       "      <th>16</th>\n",
       "      <td>J84.8</td>\n",
       "      <td>J96.00</td>\n",
       "      <td>J96.19</td>\n",
       "      <td>E66.8</td>\n",
       "      <td>Z75.1</td>\n",
       "      <td></td>\n",
       "      <td></td>\n",
       "      <td></td>\n",
       "      <td></td>\n",
       "      <td></td>\n",
       "      <td>...</td>\n",
       "      <td>93.22</td>\n",
       "      <td>93.27</td>\n",
       "      <td>93.82</td>\n",
       "      <td>93.96</td>\n",
       "      <td>93.99</td>\n",
       "      <td>89.65</td>\n",
       "      <td>90.39</td>\n",
       "      <td>56</td>\n",
       "      <td>1</td>\n",
       "      <td>044193</td>\n",
       "    </tr>\n",
       "    <tr>\n",
       "      <th>17</th>\n",
       "      <td>U07.1</td>\n",
       "      <td>J12.8</td>\n",
       "      <td>R06.0</td>\n",
       "      <td>Z29.0</td>\n",
       "      <td>Z01.7</td>\n",
       "      <td>K81.0</td>\n",
       "      <td>J96.09</td>\n",
       "      <td>J98.2</td>\n",
       "      <td>J15.1</td>\n",
       "      <td>Y95</td>\n",
       "      <td>...</td>\n",
       "      <td>93.82</td>\n",
       "      <td>93.09</td>\n",
       "      <td>93.11</td>\n",
       "      <td>93.14</td>\n",
       "      <td>93.27</td>\n",
       "      <td>93.12</td>\n",
       "      <td>96.55</td>\n",
       "      <td>40</td>\n",
       "      <td>0</td>\n",
       "      <td>041013</td>\n",
       "    </tr>\n",
       "    <tr>\n",
       "      <th>18</th>\n",
       "      <td>K92.2</td>\n",
       "      <td>K20</td>\n",
       "      <td>I26.9</td>\n",
       "      <td>E87.1</td>\n",
       "      <td>E51.2</td>\n",
       "      <td>G32.8</td>\n",
       "      <td>K72.1</td>\n",
       "      <td>R18</td>\n",
       "      <td>U07.1</td>\n",
       "      <td>Z29.0</td>\n",
       "      <td>...</td>\n",
       "      <td>93.09</td>\n",
       "      <td>93.11</td>\n",
       "      <td>93.12</td>\n",
       "      <td>93.14</td>\n",
       "      <td>93.19</td>\n",
       "      <td>93.27</td>\n",
       "      <td>99.19</td>\n",
       "      <td>61</td>\n",
       "      <td>0</td>\n",
       "      <td>064183</td>\n",
       "    </tr>\n",
       "    <tr>\n",
       "      <th>19</th>\n",
       "      <td>U07.1</td>\n",
       "      <td>J12.8</td>\n",
       "      <td>J96.00</td>\n",
       "      <td>R06.0</td>\n",
       "      <td>R50.9</td>\n",
       "      <td>R61.9</td>\n",
       "      <td>R43.0</td>\n",
       "      <td>R43.2</td>\n",
       "      <td>Z29.0</td>\n",
       "      <td>Z01.7</td>\n",
       "      <td>...</td>\n",
       "      <td>99.26</td>\n",
       "      <td>99.29</td>\n",
       "      <td>93.01</td>\n",
       "      <td>93.09</td>\n",
       "      <td>93.11</td>\n",
       "      <td>93.12</td>\n",
       "      <td>93.13</td>\n",
       "      <td>44</td>\n",
       "      <td>0</td>\n",
       "      <td>041023</td>\n",
       "    </tr>\n",
       "  </tbody>\n",
       "</table>\n",
       "<p>20 rows × 68 columns</p>\n",
       "</div>"
      ],
      "text/plain": [
       "   Diag01  Diag02  Diag03  Diag04  Diag05  Diag06  Diag07  Diag08  Diag09  \\\n",
       "0   A41.8   B37.6   I39.8     N10   B96.1   L89.9   L08.9   B96.2   A41.5   \n",
       "1   U07.1   J12.8   R06.0     R05   R50.9   Z29.0   Z01.7  J96.00   J94.2   \n",
       "2   K56.5   R57.2   R57.1     J80     Y95   J15.0   U82.2   B95.6   B96.8   \n",
       "3   K76.8   K66.1   N18.5   D64.9   E87.5   E87.2     J81   N17.8   J44.9   \n",
       "4   T81.0   Y83.2   S31.1  S36.80  W31.62  J96.09   J15.0   U82.2   U07.1   \n",
       "5   U07.1   J12.8   R06.0   R50.9     R53     R05   Z29.0   Z01.7  J96.00   \n",
       "6   U07.1   J12.8   R06.0     R05   Z29.0   Z01.7  J96.09     J80   J15.1   \n",
       "7   U07.1   J12.8  J96.09     J80   R06.0   R50.9     R05  M79.19   Z29.0   \n",
       "8   U07.1   J12.8     J80   Z20.8   Z29.0   Z01.7   T81.4   Y83.6   K85.9   \n",
       "9   U07.1   J12.8  J96.00   R50.9     R11     R05  M79.19   R07.0   A09.9   \n",
       "10  U07.1   J12.8  J96.00   R06.0   Z29.0   Z01.7   J15.1   J85.0   I26.9   \n",
       "11  J86.9   B96.1   U82.2   T81.4   Y84.8   J94.2   N39.0   N41.0   K85.8   \n",
       "12  F20.6   F14.2   F10.2                                                   \n",
       "13  N18.5   E83.5   E83.3   E11.7   I79.2   H36.0     I10   I50.9   D64.9   \n",
       "14  N17.0   K80.3   U07.1  J96.09   I48.0   R57.0   A41.8   B96.1     Y95   \n",
       "15  I20.0   I25.1   I50.0  I70.20   I65.2  I70.80   I77.8   I25.2     I10   \n",
       "16  J84.8  J96.00  J96.19   E66.8   Z75.1                                   \n",
       "17  U07.1   J12.8   R06.0   Z29.0   Z01.7   K81.0  J96.09   J98.2   J15.1   \n",
       "18  K92.2     K20   I26.9   E87.1   E51.2   G32.8   K72.1     R18   U07.1   \n",
       "19  U07.1   J12.8  J96.00   R06.0   R50.9   R61.9   R43.0   R43.2   Z29.0   \n",
       "\n",
       "   Diag10  ... Proced24 Proced25 Proced26 Proced27 Proced28 Proced29 Proced30  \\\n",
       "0   J86.9  ...    99.84    88.72    90.42    90.52    91.39    91.33    87.03   \n",
       "1   J92.9  ...    91.62    90.43    91.39    90.52    91.32    96.59    90.99   \n",
       "2   B37.1  ...    99.84    91.73    90.53    99.26    89.39    89.66    89.65   \n",
       "3   R41.0  ...    57.94    00.13    00.17    99.04    99.18    99.21    99.23   \n",
       "4   N39.0  ...    90.52    91.39    91.32    93.90    99.15    96.59    45.13   \n",
       "5     J80  ...    57.94    00.17    89.39     96.6    99.26    91.82    90.99   \n",
       "6   A41.8  ...    91.32    99.18    93.94    99.21    00.17    99.29    99.19   \n",
       "7   Z01.7  ...    99.17    99.18    99.19    99.21    99.23    99.26    99.29   \n",
       "8   K65.0  ...    99.04    99.18    99.19    99.21    99.26    99.29    93.01   \n",
       "9   Z29.0  ...    99.26    99.29    93.01    93.09    93.11    93.12    93.13   \n",
       "10  G62.8  ...    99.23    99.26    99.29    93.01    93.09    93.11    93.12   \n",
       "11  J93.9  ...    99.04    99.18    99.19    99.21    99.23    99.26    99.29   \n",
       "12         ...                                                                  \n",
       "13  A49.8  ...    94.11    90.53    99.84    90.39    93.01    93.18    93.99   \n",
       "14  U82.2  ...    88.01    88.43    87.03    88.38    87.44    45.13    45.23   \n",
       "15  U07.1  ...     89.7                                                         \n",
       "16         ...    93.22    93.27    93.82    93.96    93.99    89.65    90.39   \n",
       "17    Y95  ...    93.82    93.09    93.11    93.14    93.27    93.12    96.55   \n",
       "18  Z29.0  ...    93.09    93.11    93.12    93.14    93.19    93.27    99.19   \n",
       "19  Z01.7  ...    99.26    99.29    93.01    93.09    93.11    93.12    93.13   \n",
       "\n",
       "   Edad en años Sexo (Desc)     GRD  \n",
       "0            40           0  184103  \n",
       "1            53           0  041013  \n",
       "2            65           0  041013  \n",
       "3            61           0  041023  \n",
       "4            30           0  041023  \n",
       "5            49           1  041013  \n",
       "6            55           0  041013  \n",
       "7            33           1  041013  \n",
       "8            37           1  041023  \n",
       "9            59           0  041023  \n",
       "10           50           0  041013  \n",
       "11           63           0  041303  \n",
       "12           30           1  194101  \n",
       "13           66           0  114102  \n",
       "14           77           1  041023  \n",
       "15           69           0  054203  \n",
       "16           56           1  044193  \n",
       "17           40           0  041013  \n",
       "18           61           0  064183  \n",
       "19           44           0  041023  \n",
       "\n",
       "[20 rows x 68 columns]"
      ]
     },
     "execution_count": 2,
     "metadata": {},
     "output_type": "execute_result"
    }
   ],
   "source": [
    "#Inicializar y abrir archivo\n",
    "corpus=[]\n",
    "dic_diag={}\n",
    "dic_proc={}\n",
    "dic_grd={}\n",
    "archivo=open(\"dataset_elpino.csv\",encoding=\"utf-8\")\n",
    "\n",
    "#Sacar las variables (features o característica)\n",
    "header=archivo.readline().strip().split(\";\")\n",
    "features=[]\n",
    "for col in header:\n",
    "    if col.startswith(\"Diag\") or col.startswith(\"Proc\"):\n",
    "        col=col.split(\" \")\n",
    "        col=col[0]+col[1]\n",
    "    features.append(col)\n",
    "\n",
    "#Sacar la data (deja sólo los códigos en el corpus y en diccionario las descripciones)\n",
    "for linea in archivo:\n",
    "    row=[]\n",
    "    linea=linea.strip().split(\";\")\n",
    "    for i in range(len(linea)):\n",
    "        cod=linea[i].split(\"-\")[0].strip()\n",
    "        if len(linea[i].split(\"-\")) == 2:\n",
    "            des=linea[i].split(\"-\")[1].strip()\n",
    "        if i < 35:\n",
    "            dic_diag[cod]=des\n",
    "        elif i < 65:\n",
    "            dic_proc[cod]=des\n",
    "        elif i == 67:\n",
    "            dic_grd[cod]=des\n",
    "        elif i==66:\n",
    "            cod = 1 if cod==\"Mujer\" else 0\n",
    "        row.append(cod)\n",
    "    corpus.append(row)\n",
    "\n",
    "#Crear un dataframe con la data\n",
    "df = pd.DataFrame(corpus, columns=features)\n",
    "df.head(20)"
   ]
  },
  {
   "cell_type": "code",
   "execution_count": 3,
   "id": "be1ba46c",
   "metadata": {},
   "outputs": [
    {
     "data": {
      "image/png": "[encoded data removed]",
      "text/plain": [
       "<Figure size 1200x450 with 1 Axes>"
      ]
     },
     "metadata": {},
     "output_type": "display_data"
    }
   ],
   "source": [
    "# Calcular la cantidad de valores '' en las primeras 65 columnas\n",
    "valores_vacios_str = (df.iloc[:, :] == '').sum()\n",
    "\n",
    "# Crear el gráfico de barras\n",
    "plt.figure(figsize=(12, 4.5))\n",
    "valores_vacios_str.plot(kind='bar', color='skyblue', edgecolor='black')\n",
    "plt.title('Cantidad de Valores vacíos por columna del dataset', fontsize=24)\n",
    "plt.xticks(rotation=22.5+45, ha='right')\n",
    "plt.xlabel('Columnas', fontsize=16)\n",
    "plt.ylabel('Cantidad de Valores vacíos', fontsize=16)\n",
    "plt.grid(axis='y', alpha=0.75)\n",
    "plt.tight_layout()\n",
    "plt.show()"
   ]
  },
  {
   "cell_type": "code",
   "execution_count": 4,
   "id": "3e5d06d6",
   "metadata": {},
   "outputs": [
    {
     "data": {
      "image/png": "[encoded data removed]",
      "text/plain": [
       "<Figure size 600x550 with 2 Axes>"
      ]
     },
     "metadata": {},
     "output_type": "display_data"
    }
   ],
   "source": [
    "# Calcular estadísticas\n",
    "q1 = df['Edad en años'].astype(int).quantile(0.25)\n",
    "q3 = df['Edad en años'].astype(int).quantile(0.75)\n",
    "iqr = q3 - q1\n",
    "media = df['Edad en años'].astype(int).mean()\n",
    "mediana = df['Edad en años'].astype(int).median()\n",
    "\n",
    "# Crear una figura con subgráficos\n",
    "fig, axes = plt.subplots(2, 1, gridspec_kw={'height_ratios': [1, 4.5]}, figsize=(6, 5.5))\n",
    "\n",
    "# Diagrama de caja\n",
    "sns.boxplot(x=df['Edad en años'].astype(int), showfliers=True, color='skyblue', ax=axes[0], width=0.5)\n",
    "axes[0].set_title('Histograma y Diagrama de Caja de Edades de los Pacientes')\n",
    "axes[0].grid(axis='y', alpha=0.75)\n",
    "axes[0].set_xlabel('')\n",
    "\n",
    "# Histograma\n",
    "axes[1].hist([int(i) for i in df['Edad en años']], bins=120, color='skyblue', edgecolor='black')\n",
    "axes[1].axvline(media, color='red', linestyle='--', label=f'Media: {media:.2f}')\n",
    "axes[1].axvline(mediana, color='green', linestyle='--', label=f'Mediana: {mediana:.2f}')\n",
    "axes[1].axvline(q1, color='orange', linestyle='--', label=f'Q1: {q1:.2f}')\n",
    "axes[1].axvline(q3, color='purple', linestyle='--', label=f'Q3: {q3:.2f}')\n",
    "axes[1]\n",
    "axes[1].set_xlabel('Edad en años')\n",
    "axes[1].set_ylabel('Frecuencia')\n",
    "axes[1].legend()\n",
    "axes[1].grid(axis='y', alpha=0.75)\n",
    "\n",
    "# Ajustar el diseño\n",
    "plt.tight_layout()\n",
    "plt.show()"
   ]
  },
  {
   "cell_type": "code",
   "execution_count": 5,
   "id": "9bf78879",
   "metadata": {},
   "outputs": [
    {
     "data": {
      "image/png": "[encoded data removed]",
      "text/plain": [
       "<Figure size 300x300 with 1 Axes>"
      ]
     },
     "metadata": {},
     "output_type": "display_data"
    }
   ],
   "source": [
    "# Calcular la proporción de género\n",
    "proporcion_genero = df['Sexo (Desc)'].value_counts(normalize=True) * 100\n",
    "\n",
    "# Crear un gráfico de torta para la proporción de género\n",
    "plt.figure(figsize=(3,3))\n",
    "proporcion_genero.index = ['Mujer', 'Hombre']  # Cambiar las etiquetas\n",
    "proporcion_genero.plot(kind='pie', autopct='%1.2f%%', colors=['lightcoral', 'skyblue'], startangle=90)\n",
    "plt.title('Proporción de Género')\n",
    "plt.ylabel('')  # Eliminar la etiqueta del eje Y\n",
    "plt.show()\n"
   ]
  },
  {
   "cell_type": "code",
   "execution_count": null,
   "id": "e21b4d80",
   "metadata": {},
   "outputs": [],
   "source": [
    "# Contar la cantidad de instancias por clase en la columna GRD\n",
    "cantidad_por_clase = df['GRD'].value_counts()\n",
    "\n",
    "# Calcular el porcentaje acumulado de instancias por clase\n",
    "clases_acumulado = cantidad_por_clase.cumsum()\n",
    "\n",
    "# Encontrar el número de clases necesarias para acumular el 80% de las instancias\n",
    "clases_80 = (clases_acumulado  / cantidad_por_clase.sum() <= 0.8).sum()\n",
    "\n",
    "# Crear el gráfico acumulativo\n",
    "plt.figure(figsize=(7.5, 3))\n",
    "plt.plot(clases_acumulado.values, color='skyblue')\n",
    "plt.axhline(clases_acumulado[clases_80], color='red', linestyle='--', label='80% de las instancias')\n",
    "plt.axvline(clases_80, color='green', linestyle='--', label=f'{100*clases_80/len(cantidad_por_clase):.2f}% de las clases')\n",
    "plt.title('Frecuencia Acumulada de Instancias por Clase')\n",
    "plt.xlabel('Índice de Clase')\n",
    "plt.ylabel('Frecuencia Acumulada')\n",
    "plt.legend()\n",
    "plt.grid(axis='y', alpha=0.75)\n",
    "plt.show()"
   ]
  },
  {
   "cell_type": "code",
   "execution_count": 7,
   "id": "89ceb683",
   "metadata": {},
   "outputs": [],
   "source": [
    "# Filtrar las clases con al menos 5 instancias\n",
    "clases_con_suficientes_instancias = df['GRD'].value_counts()[df['GRD'].value_counts() >= 5].index\n",
    "df = df[df['GRD'].isin(clases_con_suficientes_instancias)]"
   ]
  },
  {
   "cell_type": "code",
   "execution_count": 8,
   "id": "3387746f",
   "metadata": {},
   "outputs": [
    {
     "name": "stdout",
     "output_type": "stream",
     "text": [
      "Grupo 1 11.439688715953308\n",
      "Grupo 3 11.107180756986205\n",
      "Grupo 7 10.640254686947294\n",
      "Grupo 6 9.982313406437921\n",
      "Grupo 8 9.975238769013089\n",
      "Grupo 10 9.663954722320481\n",
      "Grupo 5 9.557835160948\n",
      "Grupo 9 9.508312698974178\n",
      "Grupo 2 9.168730102582243\n",
      "Grupo 4 8.956490979837284\n"
     ]
    }
   ],
   "source": [
    "# Crear los grupos etáreos\n",
    "df['Grupo Etáreo'] = pd.qcut(df['Edad en años'].astype(int), q=10, labels=[f'Grupo {i+1}' for i in range(10)])\n",
    "for i in df['Grupo Etáreo'].value_counts().keys():\n",
    "    print(i, df['Grupo Etáreo'].value_counts()[i]/len(df)*100)\n",
    "df = df.drop(columns=['Edad en años'], axis=1)"
   ]
  },
  {
   "cell_type": "markdown",
   "id": "5305d8d9",
   "metadata": {},
   "source": [
    "# Otros modelos"
   ]
  },
  {
   "cell_type": "code",
   "execution_count": 17,
   "id": "744cd065",
   "metadata": {},
   "outputs": [
    {
     "data": {
      "text/plain": [
       "Diag01            A41.8\n",
       "Diag02            B37.6\n",
       "Diag03            I39.8\n",
       "Diag04              N10\n",
       "Diag05            B96.1\n",
       "                 ...   \n",
       "Proced29          91.33\n",
       "Proced30          87.03\n",
       "Sexo (Desc)           0\n",
       "GRD              184103\n",
       "Grupo Etáreo    Grupo 6\n",
       "Name: 0, Length: 68, dtype: object"
      ]
     },
     "execution_count": 17,
     "metadata": {},
     "output_type": "execute_result"
    }
   ],
   "source": [
    "df.iloc[0]"
   ]
  },
  {
   "cell_type": "code",
   "execution_count": 11,
   "id": "075b515b",
   "metadata": {},
   "outputs": [],
   "source": [
    "for column in df.select_dtypes(include=['object', 'category']).columns:\n",
    "    le = LabelEncoder()\n",
    "    df[column] = le.fit_transform(df[column])\n",
    "\n",
    "X = df.drop(columns=['GRD'])\n",
    "y = df['GRD']\n",
    "\n",
    "X_train, X_test, y_train, y_test = train_test_split(X, y, test_size=0.2, stratify=y, random_state=42)"
   ]
  },
  {
   "cell_type": "markdown",
   "id": "488b8de6",
   "metadata": {},
   "source": [
    "## Regresión Logística"
   ]
  },
  {
   "cell_type": "code",
   "execution_count": null,
   "id": "54736678",
   "metadata": {},
   "outputs": [],
   "source": [
    "solvers = ['lbfgs', 'liblinear', 'newton-cg', 'newton-cholesky', 'sag', 'saga']\n",
    "\n",
    "for solver in solvers:\n",
    "    print(\"\\nEntrenando modelo de Regresión Logística con solver\", solver)\n",
    "    logistic_model = LogisticRegression(\n",
    "        max_iter=10, # Sólo 10 iteraciones porque con 100 estuvo más de una hora y no dio :/\n",
    "        random_state=42,\n",
    "        solver=solver\n",
    "    )\n",
    "    logistic_model.fit(X_train, y_train)\n",
    "    y_pred_logistic = logistic_model.predict(X_test)\n",
    "    print(\"Resultados de Regresión Logística:\")\n",
    "    print(\"     Accuracy:\", accuracy_score(y_test, y_pred_logistic))\n",
    "    print('     Precision:', precision_score(y_test, y_pred_logistic, average='weighted'))\n",
    "    print('     Recall:', recall_score(y_test, y_pred_logistic, average='weighted'))\n",
    "    print('     F1 Score:', f1_score(y_test, y_pred_logistic, average='weighted'))"
   ]
  },
  {
   "cell_type": "code",
   "execution_count": 58,
   "id": "11fcbff2",
   "metadata": {},
   "outputs": [
    {
     "data": {
      "image/png": "[encoded data removed]",
      "text/plain": [
       "<Figure size 750x400 with 1 Axes>"
      ]
     },
     "metadata": {},
     "output_type": "display_data"
    },
    {
     "name": "stdout",
     "output_type": "stream",
     "text": [
      "Máximos de Logistic Regression:\n",
      "     Accuracy:  0.2922\n",
      "     Precision: 0.2074\n",
      "     Recall:    0.2922\n",
      "     F1 Score:  0.2318\n"
     ]
    }
   ],
   "source": [
    "# Se ingresan manualmente los resultados de los modelos aquí por falta de tiempo, disculpas :/\n",
    "accuracies = [0.14609126282278034,0.26353024407499115,0.2921825256455607,0.17474354439334985,0.2918287937743191,0.2918287937743191]\n",
    "precisions = [0.06412400244874028,0.1740719611402245,0.20741501995725517,0.09975526028754823,0.20113981741556664,0.19585371236118773]\n",
    "recalls = [0.14609126282278034,0.26353024407499115,0.2921825256455607,0.17474354439334985,0.2918287937743191,0.2918287937743191]\n",
    "f1_scores = [0.07593218173044855,0.19321956207454585,0.2318244500684546,0.10302636562228128,0.22658267163396903,0.219509092833085]\n",
    "\n",
    "x = np.arange(len(solvers))\n",
    "width = 0.1\n",
    "\n",
    "plt.figure(figsize=(7.5, 4))\n",
    "plt.bar(x - 1.5 * width, accuracies, width, label='Accuracy', edgecolor='black')\n",
    "plt.bar(x - 0.5 * width, precisions, width, label='Precision', edgecolor='black')\n",
    "plt.bar(x + 0.5 * width, recalls, width, label='Recall', edgecolor='black')\n",
    "plt.bar(x + 1.5 * width, f1_scores, width, label='F1 Score', edgecolor='black')\n",
    "\n",
    "plt.xticks(x, solvers, rotation=45)\n",
    "plt.xlabel('Solvers', fontsize=12)\n",
    "plt.ylabel('Métricas', fontsize=12)\n",
    "plt.title('Comparación de Métricas por Solver', fontsize=14)\n",
    "plt.legend()\n",
    "plt.grid(axis='y', alpha=0.5)\n",
    "plt.tight_layout()\n",
    "plt.show()\n",
    "\n",
    "maximos = [max(accuracies), precisions[accuracies.index(max(accuracies))], recalls[accuracies.index(max(accuracies))], f1_scores[accuracies.index(max(accuracies))]]\n",
    "print(\"Máximos de Logistic Regression:\")\n",
    "print(\"     Accuracy: \", round(maximos[0],4))\n",
    "print(\"     Precision:\", round(maximos[1],4))\n",
    "print(\"     Recall:   \", round(maximos[2],4))\n",
    "print(\"     F1 Score: \", round(maximos[3],4))"
   ]
  },
  {
   "cell_type": "markdown",
   "id": "a43de15b",
   "metadata": {},
   "source": [
    "## Arbol de Decisión"
   ]
  },
  {
   "cell_type": "code",
   "execution_count": null,
   "id": "c09509b0",
   "metadata": {},
   "outputs": [
    {
     "name": "stdout",
     "output_type": "stream",
     "text": [
      "Máximos de Decision Tree: [0.5843650512911214, 0.5801356719281917, 0.5843650512911214, 0.5716496211645832]\n"
     ]
    }
   ],
   "source": [
    "depths = list(range(1, 31))\n",
    "accuracies = []\n",
    "precisions = []\n",
    "recalls = []\n",
    "f1_scores = []\n",
    "\n",
    "for i in depths:\n",
    "    decision_tree_model = DecisionTreeClassifier(random_state=42, max_depth=i)\n",
    "    decision_tree_model.fit(X_train, y_train)\n",
    "    y_pred_tree = decision_tree_model.predict(X_test)\n",
    "    accuracies.append(accuracy_score(y_test, y_pred_tree))\n",
    "    precisions.append(precision_score(y_test, y_pred_tree, average='weighted', zero_division=0))\n",
    "    recalls.append(recall_score(y_test, y_pred_tree, average='weighted', zero_division=0))\n",
    "    f1_scores.append(f1_score(y_test, y_pred_tree, average='weighted', zero_division=0))"
   ]
  },
  {
   "cell_type": "code",
   "execution_count": 55,
   "id": "3150eb10",
   "metadata": {},
   "outputs": [
    {
     "data": {
      "image/png": "[encoded data removed]",
      "text/plain": [
       "<Figure size 500x300 with 1 Axes>"
      ]
     },
     "metadata": {},
     "output_type": "display_data"
    },
    {
     "name": "stdout",
     "output_type": "stream",
     "text": [
      "Máximos de Decision Tree:\n",
      "     Accuracy:  0.5844\n",
      "     Precision: 0.5801\n",
      "     Recall:    0.5844\n",
      "     F1 Score:  0.5716\n"
     ]
    }
   ],
   "source": [
    "plt.figure(figsize=(5, 3))\n",
    "plt.plot(depths, accuracies, label='Accuracy', marker='o', ms=3, lw=1)\n",
    "plt.plot(depths, precisions, label='Precision', marker='o', ms=3, lw=1)\n",
    "plt.plot(depths, recalls, label='Recall', marker='o', ms=3, lw=1)\n",
    "plt.plot(depths, f1_scores, label='F1 Score', marker='o', ms=3, lw=1)\n",
    "\n",
    "plt.title('Métricas v/s profundidad máxima del Árbol de Decisión')\n",
    "plt.xlabel('Profundidad Máxima')\n",
    "plt.ylabel('Valor de la Métrica')\n",
    "plt.legend()\n",
    "plt.grid(alpha=0.5)\n",
    "plt.tight_layout()\n",
    "plt.show()\n",
    "\n",
    "maximos = [max(accuracies), precisions[accuracies.index(max(accuracies))], recalls[accuracies.index(max(accuracies))], f1_scores[accuracies.index(max(accuracies))]]\n",
    "print(\"Máximos de Decision Tree:\")\n",
    "print(\"     Accuracy: \", round(maximos[0],4))\n",
    "print(\"     Precision:\", round(maximos[1],4))\n",
    "print(\"     Recall:   \", round(maximos[2],4))\n",
    "print(\"     F1 Score: \", round(maximos[3],4))"
   ]
  },
  {
   "cell_type": "markdown",
   "id": "8a02afb8",
   "metadata": {},
   "source": [
    "## Random Forest"
   ]
  },
  {
   "cell_type": "code",
   "execution_count": 56,
   "id": "c43d5582",
   "metadata": {},
   "outputs": [
    {
     "name": "stdout",
     "output_type": "stream",
     "text": [
      "\n",
      "Entrenando modelo de Random Forest con 10 estimadores\n",
      "\n",
      "Entrenando modelo de Random Forest con 20 estimadores\n",
      "\n",
      "Entrenando modelo de Random Forest con 30 estimadores\n",
      "\n",
      "Entrenando modelo de Random Forest con 40 estimadores\n",
      "\n",
      "Entrenando modelo de Random Forest con 50 estimadores\n",
      "\n",
      "Entrenando modelo de Random Forest con 60 estimadores\n",
      "\n",
      "Entrenando modelo de Random Forest con 70 estimadores\n",
      "\n",
      "Entrenando modelo de Random Forest con 80 estimadores\n",
      "\n",
      "Entrenando modelo de Random Forest con 90 estimadores\n",
      "\n",
      "Entrenando modelo de Random Forest con 100 estimadores\n"
     ]
    }
   ],
   "source": [
    "estimators = list(range(10, 110, 10))\n",
    "accuracies = []\n",
    "precisions = []\n",
    "recalls = []\n",
    "f1_scores = []\n",
    "\n",
    "for i in estimators:\n",
    "    print(\"\\nEntrenando modelo de Random Forest con\", i, \"estimadores\")\n",
    "    random_forest_model = RandomForestClassifier(n_estimators=i, random_state=42, max_depth=18)\n",
    "    random_forest_model.fit(X_train, y_train)\n",
    "    y_pred_forest = random_forest_model.predict(X_test)\n",
    "    accuracies.append(accuracy_score(y_test, y_pred_forest))\n",
    "    precisions.append(precision_score(y_test, y_pred_forest, average='weighted', zero_division=0))\n",
    "    recalls.append(recall_score(y_test, y_pred_forest, average='weighted', zero_division=0))\n",
    "    f1_scores.append(f1_score(y_test, y_pred_forest, average='weighted', zero_division=0))"
   ]
  },
  {
   "cell_type": "code",
   "execution_count": 57,
   "id": "340946f7",
   "metadata": {},
   "outputs": [
    {
     "data": {
      "image/png": "[encoded data removed]",
      "text/plain": [
       "<Figure size 500x300 with 1 Axes>"
      ]
     },
     "metadata": {},
     "output_type": "display_data"
    },
    {
     "name": "stdout",
     "output_type": "stream",
     "text": [
      "Máximos de Random Forest:\n",
      "     Accuracy:  0.5101\n",
      "     Precision: 0.4354\n",
      "     Recall:    0.5101\n",
      "     F1 Score:  0.446\n"
     ]
    }
   ],
   "source": [
    "plt.figure(figsize=(5, 3))\n",
    "plt.plot(estimators, accuracies, label='Accuracy', marker='o', ms=3, lw=1)\n",
    "plt.plot(estimators, precisions, label='Precision', marker='o', ms=3, lw=1)\n",
    "plt.plot(estimators, recalls, label='Recall', marker='o', ms=3, lw=1)\n",
    "plt.plot(estimators, f1_scores, label='F1 Score', marker='o', ms=3, lw=1)\n",
    "\n",
    "plt.title('Métricas v/s cantidad de estimadores del Random Forest')\n",
    "plt.xlabel('Profundidad Máxima')\n",
    "plt.ylabel('Valor de la Métrica')\n",
    "plt.legend()\n",
    "plt.grid(alpha=0.5)\n",
    "plt.tight_layout()\n",
    "plt.show()\n",
    "\n",
    "maximos = [max(accuracies), precisions[accuracies.index(max(accuracies))], recalls[accuracies.index(max(accuracies))], f1_scores[accuracies.index(max(accuracies))]]\n",
    "print(\"Máximos de Random Forest:\")\n",
    "print(\"     Accuracy: \", round(maximos[0],4))\n",
    "print(\"     Precision:\", round(maximos[1],4))\n",
    "print(\"     Recall:   \", round(maximos[2],4))\n",
    "print(\"     F1 Score: \", round(maximos[3],4))"
   ]
  },
  {
   "cell_type": "markdown",
   "id": "4b17cbae",
   "metadata": {},
   "source": [
    "## Redes Neuronales"
   ]
  },
  {
   "cell_type": "code",
   "execution_count": 15,
   "id": "ff246048",
   "metadata": {},
   "outputs": [],
   "source": [
    "seed = 12122008\n",
    "X = []\n",
    "Y = []\n",
    "\n",
    "le = LabelEncoder()\n",
    "for column in df.columns[:-1]:\n",
    "    df[column] = le.fit_transform(df[column].astype(str))\n",
    "X = df.iloc[:, :-1].values\n",
    "\n",
    "ohe = OneHotEncoder(sparse_output=False)\n",
    "Y = ohe.fit_transform(df['GRD'].values.reshape(-1, 1))"
   ]
  },
  {
   "cell_type": "code",
   "execution_count": 51,
   "id": "f5a62a3b",
   "metadata": {},
   "outputs": [
    {
     "data": {
      "text/plain": [
       "(14135, 327)"
      ]
     },
     "execution_count": 51,
     "metadata": {},
     "output_type": "execute_result"
    }
   ],
   "source": [
    "Y.shape"
   ]
  },
  {
   "cell_type": "code",
   "execution_count": 10,
   "id": "7d141642",
   "metadata": {},
   "outputs": [],
   "source": [
    "x_train, x_val, y_train, y_val = train_test_split(X, Y, test_size=0.2, random_state=seed, stratify=Y)"
   ]
  },
  {
   "cell_type": "markdown",
   "id": "7f828fec",
   "metadata": {},
   "source": [
    "### Sin Embedding"
   ]
  },
  {
   "cell_type": "code",
   "execution_count": 11,
   "id": "3cd87303",
   "metadata": {},
   "outputs": [
    {
     "data": {
      "text/html": [
       "<pre style=\"white-space:pre;overflow-x:auto;line-height:normal;font-family:Menlo,'DejaVu Sans Mono',consolas,'Courier New',monospace\"><span style=\"font-weight: bold\">Model: \"sequential\"</span>\n",
       "</pre>\n"
      ],
      "text/plain": [
       "\u001b[1mModel: \"sequential\"\u001b[0m\n"
      ]
     },
     "metadata": {},
     "output_type": "display_data"
    },
    {
     "data": {
      "text/html": [
       "<pre style=\"white-space:pre;overflow-x:auto;line-height:normal;font-family:Menlo,'DejaVu Sans Mono',consolas,'Courier New',monospace\">┏━━━━━━━━━━━━━━━━━━━━━━━━━━━━━━━━━┳━━━━━━━━━━━━━━━━━━━━━━━━┳━━━━━━━━━━━━━━━┓\n",
       "┃<span style=\"font-weight: bold\"> Layer (type)                    </span>┃<span style=\"font-weight: bold\"> Output Shape           </span>┃<span style=\"font-weight: bold\">       Param # </span>┃\n",
       "┡━━━━━━━━━━━━━━━━━━━━━━━━━━━━━━━━━╇━━━━━━━━━━━━━━━━━━━━━━━━╇━━━━━━━━━━━━━━━┩\n",
       "│ dense (<span style=\"color: #0087ff; text-decoration-color: #0087ff\">Dense</span>)                   │ (<span style=\"color: #00d7ff; text-decoration-color: #00d7ff\">None</span>, <span style=\"color: #00af00; text-decoration-color: #00af00\">32</span>)             │         <span style=\"color: #00af00; text-decoration-color: #00af00\">2,176</span> │\n",
       "├─────────────────────────────────┼────────────────────────┼───────────────┤\n",
       "│ dense_1 (<span style=\"color: #0087ff; text-decoration-color: #0087ff\">Dense</span>)                 │ (<span style=\"color: #00d7ff; text-decoration-color: #00d7ff\">None</span>, <span style=\"color: #00af00; text-decoration-color: #00af00\">327</span>)            │        <span style=\"color: #00af00; text-decoration-color: #00af00\">10,791</span> │\n",
       "└─────────────────────────────────┴────────────────────────┴───────────────┘\n",
       "</pre>\n"
      ],
      "text/plain": [
       "┏━━━━━━━━━━━━━━━━━━━━━━━━━━━━━━━━━┳━━━━━━━━━━━━━━━━━━━━━━━━┳━━━━━━━━━━━━━━━┓\n",
       "┃\u001b[1m \u001b[0m\u001b[1mLayer (type)                   \u001b[0m\u001b[1m \u001b[0m┃\u001b[1m \u001b[0m\u001b[1mOutput Shape          \u001b[0m\u001b[1m \u001b[0m┃\u001b[1m \u001b[0m\u001b[1m      Param #\u001b[0m\u001b[1m \u001b[0m┃\n",
       "┡━━━━━━━━━━━━━━━━━━━━━━━━━━━━━━━━━╇━━━━━━━━━━━━━━━━━━━━━━━━╇━━━━━━━━━━━━━━━┩\n",
       "│ dense (\u001b[38;5;33mDense\u001b[0m)                   │ (\u001b[38;5;45mNone\u001b[0m, \u001b[38;5;34m32\u001b[0m)             │         \u001b[38;5;34m2,176\u001b[0m │\n",
       "├─────────────────────────────────┼────────────────────────┼───────────────┤\n",
       "│ dense_1 (\u001b[38;5;33mDense\u001b[0m)                 │ (\u001b[38;5;45mNone\u001b[0m, \u001b[38;5;34m327\u001b[0m)            │        \u001b[38;5;34m10,791\u001b[0m │\n",
       "└─────────────────────────────────┴────────────────────────┴───────────────┘\n"
      ]
     },
     "metadata": {},
     "output_type": "display_data"
    },
    {
     "data": {
      "text/html": [
       "<pre style=\"white-space:pre;overflow-x:auto;line-height:normal;font-family:Menlo,'DejaVu Sans Mono',consolas,'Courier New',monospace\"><span style=\"font-weight: bold\"> Total params: </span><span style=\"color: #00af00; text-decoration-color: #00af00\">12,967</span> (50.65 KB)\n",
       "</pre>\n"
      ],
      "text/plain": [
       "\u001b[1m Total params: \u001b[0m\u001b[38;5;34m12,967\u001b[0m (50.65 KB)\n"
      ]
     },
     "metadata": {},
     "output_type": "display_data"
    },
    {
     "data": {
      "text/html": [
       "<pre style=\"white-space:pre;overflow-x:auto;line-height:normal;font-family:Menlo,'DejaVu Sans Mono',consolas,'Courier New',monospace\"><span style=\"font-weight: bold\"> Trainable params: </span><span style=\"color: #00af00; text-decoration-color: #00af00\">12,967</span> (50.65 KB)\n",
       "</pre>\n"
      ],
      "text/plain": [
       "\u001b[1m Trainable params: \u001b[0m\u001b[38;5;34m12,967\u001b[0m (50.65 KB)\n"
      ]
     },
     "metadata": {},
     "output_type": "display_data"
    },
    {
     "data": {
      "text/html": [
       "<pre style=\"white-space:pre;overflow-x:auto;line-height:normal;font-family:Menlo,'DejaVu Sans Mono',consolas,'Courier New',monospace\"><span style=\"font-weight: bold\"> Non-trainable params: </span><span style=\"color: #00af00; text-decoration-color: #00af00\">0</span> (0.00 B)\n",
       "</pre>\n"
      ],
      "text/plain": [
       "\u001b[1m Non-trainable params: \u001b[0m\u001b[38;5;34m0\u001b[0m (0.00 B)\n"
      ]
     },
     "metadata": {},
     "output_type": "display_data"
    }
   ],
   "source": [
    "modelo=Sequential()\n",
    "modelo.add(Input(shape=(X.shape[1],)))\n",
    "modelo.add(Dense(32))\n",
    "modelo.add(Dense(Y.shape[1],activation=\"softmax\"))\n",
    "modelo.compile(optimizer=\"Adam\",loss=\"categorical_crossentropy\",metrics=[\"acc\"])\n",
    "modelo.summary()"
   ]
  },
  {
   "cell_type": "code",
   "execution_count": 12,
   "id": "a457cfdf",
   "metadata": {},
   "outputs": [],
   "source": [
    "def build_model(hp):\n",
    "    modelo = Sequential()\n",
    "    modelo.add(Input(shape=(X.shape[1],)))\n",
    "    for i in range(hp.Choice(\"capas\", [1, 2, 3])):\n",
    "        modelo.add(Dense(hp.Choice(\"neuronas_capa\", [8, 16, 32, 64]), activation=\"relu\"))\n",
    "    modelo.add(Dense(y_train.shape[1], activation=\"softmax\"))\n",
    "    modelo.compile(\n",
    "        loss=\"categorical_crossentropy\",\n",
    "        metrics=[tf.keras.metrics.CategoricalAccuracy(name=\"acc\")],\n",
    "        optimizer=\"adam\"\n",
    "    )\n",
    "    return modelo\n",
    "\n",
    "tuner=keras_tuner.RandomSearch(\n",
    "    hypermodel=build_model,\n",
    "    objective=keras_tuner.Objective(\"val_acc\",direction=\"max\"),\n",
    "    max_trials=16,\n",
    "    executions_per_trial=1,\n",
    "    overwrite=True,\n",
    "    directory=\"modelos\",\n",
    "    project_name=\"GRD\"\n",
    ")"
   ]
  },
  {
   "cell_type": "code",
   "execution_count": 13,
   "id": "9501dde4",
   "metadata": {},
   "outputs": [
    {
     "name": "stdout",
     "output_type": "stream",
     "text": [
      "Trial 12 Complete [00h 00m 14s]\n",
      "val_acc: 0.20304208993911743\n",
      "\n",
      "Best val_acc So Far: 0.28298550844192505\n",
      "Total elapsed time: 00h 02m 48s\n"
     ]
    }
   ],
   "source": [
    "tuner.search(x_train,y_train,epochs=16,validation_data=(x_val,y_val),batch_size=32,verbose=1)"
   ]
  },
  {
   "cell_type": "code",
   "execution_count": 14,
   "id": "465aa2ee",
   "metadata": {},
   "outputs": [
    {
     "name": "stderr",
     "output_type": "stream",
     "text": [
      "c:\\Users\\bobaz\\AppData\\Local\\Programs\\Python\\Python312\\Lib\\site-packages\\keras\\src\\saving\\saving_lib.py:757: UserWarning: Skipping variable loading for optimizer 'adam', because it has 2 variables whereas the saved optimizer has 18 variables. \n",
      "  saveable.load_own_variables(weights_store.get(inner_path))\n"
     ]
    },
    {
     "data": {
      "text/html": [
       "<pre style=\"white-space:pre;overflow-x:auto;line-height:normal;font-family:Menlo,'DejaVu Sans Mono',consolas,'Courier New',monospace\"><span style=\"font-weight: bold\">Model: \"sequential\"</span>\n",
       "</pre>\n"
      ],
      "text/plain": [
       "\u001b[1mModel: \"sequential\"\u001b[0m\n"
      ]
     },
     "metadata": {},
     "output_type": "display_data"
    },
    {
     "data": {
      "text/html": [
       "<pre style=\"white-space:pre;overflow-x:auto;line-height:normal;font-family:Menlo,'DejaVu Sans Mono',consolas,'Courier New',monospace\">┏━━━━━━━━━━━━━━━━━━━━━━━━━━━━━━━━━┳━━━━━━━━━━━━━━━━━━━━━━━━┳━━━━━━━━━━━━━━━┓\n",
       "┃<span style=\"font-weight: bold\"> Layer (type)                    </span>┃<span style=\"font-weight: bold\"> Output Shape           </span>┃<span style=\"font-weight: bold\">       Param # </span>┃\n",
       "┡━━━━━━━━━━━━━━━━━━━━━━━━━━━━━━━━━╇━━━━━━━━━━━━━━━━━━━━━━━━╇━━━━━━━━━━━━━━━┩\n",
       "│ dense (<span style=\"color: #0087ff; text-decoration-color: #0087ff\">Dense</span>)                   │ (<span style=\"color: #00d7ff; text-decoration-color: #00d7ff\">None</span>, <span style=\"color: #00af00; text-decoration-color: #00af00\">32</span>)             │         <span style=\"color: #00af00; text-decoration-color: #00af00\">2,176</span> │\n",
       "├─────────────────────────────────┼────────────────────────┼───────────────┤\n",
       "│ dense_1 (<span style=\"color: #0087ff; text-decoration-color: #0087ff\">Dense</span>)                 │ (<span style=\"color: #00d7ff; text-decoration-color: #00d7ff\">None</span>, <span style=\"color: #00af00; text-decoration-color: #00af00\">32</span>)             │         <span style=\"color: #00af00; text-decoration-color: #00af00\">1,056</span> │\n",
       "├─────────────────────────────────┼────────────────────────┼───────────────┤\n",
       "│ dense_2 (<span style=\"color: #0087ff; text-decoration-color: #0087ff\">Dense</span>)                 │ (<span style=\"color: #00d7ff; text-decoration-color: #00d7ff\">None</span>, <span style=\"color: #00af00; text-decoration-color: #00af00\">32</span>)             │         <span style=\"color: #00af00; text-decoration-color: #00af00\">1,056</span> │\n",
       "├─────────────────────────────────┼────────────────────────┼───────────────┤\n",
       "│ dense_3 (<span style=\"color: #0087ff; text-decoration-color: #0087ff\">Dense</span>)                 │ (<span style=\"color: #00d7ff; text-decoration-color: #00d7ff\">None</span>, <span style=\"color: #00af00; text-decoration-color: #00af00\">327</span>)            │        <span style=\"color: #00af00; text-decoration-color: #00af00\">10,791</span> │\n",
       "└─────────────────────────────────┴────────────────────────┴───────────────┘\n",
       "</pre>\n"
      ],
      "text/plain": [
       "┏━━━━━━━━━━━━━━━━━━━━━━━━━━━━━━━━━┳━━━━━━━━━━━━━━━━━━━━━━━━┳━━━━━━━━━━━━━━━┓\n",
       "┃\u001b[1m \u001b[0m\u001b[1mLayer (type)                   \u001b[0m\u001b[1m \u001b[0m┃\u001b[1m \u001b[0m\u001b[1mOutput Shape          \u001b[0m\u001b[1m \u001b[0m┃\u001b[1m \u001b[0m\u001b[1m      Param #\u001b[0m\u001b[1m \u001b[0m┃\n",
       "┡━━━━━━━━━━━━━━━━━━━━━━━━━━━━━━━━━╇━━━━━━━━━━━━━━━━━━━━━━━━╇━━━━━━━━━━━━━━━┩\n",
       "│ dense (\u001b[38;5;33mDense\u001b[0m)                   │ (\u001b[38;5;45mNone\u001b[0m, \u001b[38;5;34m32\u001b[0m)             │         \u001b[38;5;34m2,176\u001b[0m │\n",
       "├─────────────────────────────────┼────────────────────────┼───────────────┤\n",
       "│ dense_1 (\u001b[38;5;33mDense\u001b[0m)                 │ (\u001b[38;5;45mNone\u001b[0m, \u001b[38;5;34m32\u001b[0m)             │         \u001b[38;5;34m1,056\u001b[0m │\n",
       "├─────────────────────────────────┼────────────────────────┼───────────────┤\n",
       "│ dense_2 (\u001b[38;5;33mDense\u001b[0m)                 │ (\u001b[38;5;45mNone\u001b[0m, \u001b[38;5;34m32\u001b[0m)             │         \u001b[38;5;34m1,056\u001b[0m │\n",
       "├─────────────────────────────────┼────────────────────────┼───────────────┤\n",
       "│ dense_3 (\u001b[38;5;33mDense\u001b[0m)                 │ (\u001b[38;5;45mNone\u001b[0m, \u001b[38;5;34m327\u001b[0m)            │        \u001b[38;5;34m10,791\u001b[0m │\n",
       "└─────────────────────────────────┴────────────────────────┴───────────────┘\n"
      ]
     },
     "metadata": {},
     "output_type": "display_data"
    },
    {
     "data": {
      "text/html": [
       "<pre style=\"white-space:pre;overflow-x:auto;line-height:normal;font-family:Menlo,'DejaVu Sans Mono',consolas,'Courier New',monospace\"><span style=\"font-weight: bold\"> Total params: </span><span style=\"color: #00af00; text-decoration-color: #00af00\">15,079</span> (58.90 KB)\n",
       "</pre>\n"
      ],
      "text/plain": [
       "\u001b[1m Total params: \u001b[0m\u001b[38;5;34m15,079\u001b[0m (58.90 KB)\n"
      ]
     },
     "metadata": {},
     "output_type": "display_data"
    },
    {
     "data": {
      "text/html": [
       "<pre style=\"white-space:pre;overflow-x:auto;line-height:normal;font-family:Menlo,'DejaVu Sans Mono',consolas,'Courier New',monospace\"><span style=\"font-weight: bold\"> Trainable params: </span><span style=\"color: #00af00; text-decoration-color: #00af00\">15,079</span> (58.90 KB)\n",
       "</pre>\n"
      ],
      "text/plain": [
       "\u001b[1m Trainable params: \u001b[0m\u001b[38;5;34m15,079\u001b[0m (58.90 KB)\n"
      ]
     },
     "metadata": {},
     "output_type": "display_data"
    },
    {
     "data": {
      "text/html": [
       "<pre style=\"white-space:pre;overflow-x:auto;line-height:normal;font-family:Menlo,'DejaVu Sans Mono',consolas,'Courier New',monospace\"><span style=\"font-weight: bold\"> Non-trainable params: </span><span style=\"color: #00af00; text-decoration-color: #00af00\">0</span> (0.00 B)\n",
       "</pre>\n"
      ],
      "text/plain": [
       "\u001b[1m Non-trainable params: \u001b[0m\u001b[38;5;34m0\u001b[0m (0.00 B)\n"
      ]
     },
     "metadata": {},
     "output_type": "display_data"
    }
   ],
   "source": [
    "mejor_modelo=tuner.get_best_models()[0]\n",
    "mejor_modelo.summary()"
   ]
  },
  {
   "cell_type": "code",
   "execution_count": 15,
   "id": "637e9520",
   "metadata": {},
   "outputs": [
    {
     "name": "stdout",
     "output_type": "stream",
     "text": [
      "\u001b[1m89/89\u001b[0m \u001b[32m━━━━━━━━━━━━━━━━━━━━\u001b[0m\u001b[37m\u001b[0m \u001b[1m0s\u001b[0m 2ms/step\n"
     ]
    }
   ],
   "source": [
    "y_pred_probs=mejor_modelo.predict(x_val)"
   ]
  },
  {
   "cell_type": "code",
   "execution_count": null,
   "id": "d4eda22e",
   "metadata": {},
   "outputs": [],
   "source": [
    "# Para multiclase, selecciona la clase con la mayor probabilidad\n",
    "y_pred = np.argmax(y_pred_probs, axis=1)\n",
    "y_val_classes = np.argmax(y_val, axis=1)  # Convertir one-hot encoding a clases\n",
    "\n",
    "print(y_pred)\n",
    "\n",
    "fig, axes = plt.subplots(1, 2)\n",
    "fig.set_size_inches(10, 4)\n",
    "\n",
    "roc_aucs = []\n",
    "\n",
    "# # Matriz de confusión\n",
    "# matriz = confusion_matrix(y_val_classes, y_pred)\n",
    "# ax = axes[0]\n",
    "# sns.heatmap(matriz, annot=True, ax=ax, cmap=\"Blues\", fmt=\"d\")\n",
    "# ax.set_title(\"Rec=\" + str(round(recall_score(y_val_classes, y_pred, average='macro'), 2)) +\n",
    "#              \" Acc=\" + str(round(accuracy_score(y_val_classes, y_pred), 2)) +\n",
    "#              \" Pre=\" + str(round(precision_score(y_val_classes, y_pred, average='macro'), 2)))\n",
    "# axes[0].set_xlabel('Predicted')\n",
    "# axes[0].set_ylabel('Real')\n",
    "\n",
    "# ROC Curve (requiere binarización para multiclase)\n",
    "y_val_binarized = label_binarize(y_val_classes, classes=range(len(np.unique(y_val_classes))))\n",
    "fpr = {}\n",
    "tpr = {}\n",
    "roc_auc = {}\n",
    "for i in range(y_val_binarized.shape[1]):\n",
    "    fpr[i], tpr[i], _ = roc_curve(y_val_binarized[:, i], y_pred_probs[:, i])\n",
    "    roc_auc[i] = auc(fpr[i], tpr[i])\n",
    "\n",
    "# Plot ROC Curve para cada clase\n",
    "for i in range(len(roc_auc)):\n",
    "    axes[0].plot(fpr[i], tpr[i])#, label=f'Class {i} (area = {roc_auc[i]:0.2f})')\n",
    "axes[0].plot([0, 1], [0, 1], '--', label='No Skill')\n",
    "axes[0].set_xlabel('False Positive Rate')\n",
    "axes[0].set_ylabel('True Positive Rate')\n",
    "axes[0].set_title('ROC Curve')\n",
    "axes[0].legend()\n",
    "\n",
    "# Precision-Recall Curve\n",
    "lr_precision = {}\n",
    "lr_recall = {}\n",
    "pr_auc = {}\n",
    "for i in range(y_val_binarized.shape[1]):\n",
    "    lr_precision[i], lr_recall[i], _ = precision_recall_curve(y_val_binarized[:, i], y_pred_probs[:, i])\n",
    "    pr_auc[i] = auc(lr_recall[i], lr_precision[i])\n",
    "\n",
    "# Plot Precision-Recall Curve para cada clase\n",
    "for i in range(len(pr_auc)):\n",
    "    axes[1].plot(lr_recall[i], lr_precision[i], marker='.')#, label=f'Class {i} (area = {pr_auc[i]:0.2f})')\n",
    "axes[1].set_xlabel('Recall')\n",
    "axes[1].set_ylabel('Precision')\n",
    "axes[1].set_title('PR-RC Curve')\n",
    "axes[1].legend()\n",
    "\n",
    "print(\"Rec=\" + str(round(recall_score(y_val_classes, y_pred, average='macro'), 2)) +\n",
    "              \" Acc=\" + str(round(accuracy_score(y_val_classes, y_pred), 2)) +\n",
    "              \" Pre=\" + str(round(precision_score(y_val_classes, y_pred, average='macro'), 2)))\n"
   ]
  },
  {
   "cell_type": "code",
   "execution_count": 26,
   "id": "60aa0ab2",
   "metadata": {},
   "outputs": [
    {
     "data": {
      "image/png": "[encoded data removed]",
      "text/plain": [
       "<Figure size 500x300 with 1 Axes>"
      ]
     },
     "metadata": {},
     "output_type": "display_data"
    }
   ],
   "source": [
    "# Calcular la cantidad de instancias por clase\n",
    "cantidad_instancias = np.sum(y_val_binarized, axis=0)\n",
    "\n",
    "# Extraer los valores de roc_auc\n",
    "roc_values = list(roc_auc.values())\n",
    "\n",
    "# Crear el gráfico\n",
    "plt.figure(figsize=(5, 3))\n",
    "plt.scatter(cantidad_instancias, roc_values, color='blue', alpha=0.7, edgecolor='black', s=10)\n",
    "plt.title('ROC AUC vs Cantidad de Instancias por Clase')\n",
    "plt.xlabel('Cantidad de Instancias por Clase')\n",
    "plt.ylabel('ROC AUC')\n",
    "plt.grid(alpha=0.5)\n",
    "plt.tight_layout()\n",
    "plt.show()"
   ]
  },
  {
   "cell_type": "markdown",
   "id": "c420c511",
   "metadata": {},
   "source": [
    "El mejor modelo neuronal es el que tiene 3 capas ocultas de 32 neuronas"
   ]
  },
  {
   "cell_type": "code",
   "execution_count": 39,
   "id": "5fbe9d72",
   "metadata": {
    "vscode": {
     "languageId": "ruby"
    }
   },
   "outputs": [
    {
     "name": "stdout",
     "output_type": "stream",
     "text": [
      "X_variable.shape: (14135, 1)\n",
      "Y.shape: (14135, 327)\n",
      "X_variable.shape: (14135, 2)\n",
      "Y.shape: (14135, 327)\n",
      "X_variable.shape: (14135, 3)\n",
      "Y.shape: (14135, 327)\n",
      "X_variable.shape: (14135, 4)\n",
      "Y.shape: (14135, 327)\n",
      "X_variable.shape: (14135, 5)\n",
      "Y.shape: (14135, 327)\n",
      "X_variable.shape: (14135, 6)\n",
      "Y.shape: (14135, 327)\n",
      "X_variable.shape: (14135, 7)\n",
      "Y.shape: (14135, 327)\n",
      "X_variable.shape: (14135, 8)\n",
      "Y.shape: (14135, 327)\n",
      "X_variable.shape: (14135, 9)\n",
      "Y.shape: (14135, 327)\n",
      "X_variable.shape: (14135, 10)\n",
      "Y.shape: (14135, 327)\n",
      "X_variable.shape: (14135, 11)\n",
      "Y.shape: (14135, 327)\n",
      "X_variable.shape: (14135, 12)\n",
      "Y.shape: (14135, 327)\n",
      "X_variable.shape: (14135, 13)\n",
      "Y.shape: (14135, 327)\n",
      "X_variable.shape: (14135, 14)\n",
      "Y.shape: (14135, 327)\n",
      "X_variable.shape: (14135, 15)\n",
      "Y.shape: (14135, 327)\n",
      "X_variable.shape: (14135, 16)\n",
      "Y.shape: (14135, 327)\n",
      "X_variable.shape: (14135, 17)\n",
      "Y.shape: (14135, 327)\n",
      "X_variable.shape: (14135, 18)\n",
      "Y.shape: (14135, 327)\n",
      "X_variable.shape: (14135, 19)\n",
      "Y.shape: (14135, 327)\n",
      "X_variable.shape: (14135, 20)\n",
      "Y.shape: (14135, 327)\n",
      "X_variable.shape: (14135, 21)\n",
      "Y.shape: (14135, 327)\n",
      "X_variable.shape: (14135, 22)\n",
      "Y.shape: (14135, 327)\n",
      "X_variable.shape: (14135, 23)\n",
      "Y.shape: (14135, 327)\n",
      "X_variable.shape: (14135, 24)\n",
      "Y.shape: (14135, 327)\n",
      "X_variable.shape: (14135, 25)\n",
      "Y.shape: (14135, 327)\n",
      "X_variable.shape: (14135, 26)\n",
      "Y.shape: (14135, 327)\n",
      "X_variable.shape: (14135, 27)\n",
      "Y.shape: (14135, 327)\n",
      "X_variable.shape: (14135, 28)\n",
      "Y.shape: (14135, 327)\n",
      "X_variable.shape: (14135, 29)\n",
      "Y.shape: (14135, 327)\n",
      "X_variable.shape: (14135, 30)\n",
      "Y.shape: (14135, 327)\n",
      "X_variable.shape: (14135, 31)\n",
      "Y.shape: (14135, 327)\n",
      "X_variable.shape: (14135, 32)\n",
      "Y.shape: (14135, 327)\n",
      "X_variable.shape: (14135, 33)\n",
      "Y.shape: (14135, 327)\n",
      "X_variable.shape: (14135, 34)\n",
      "Y.shape: (14135, 327)\n",
      "X_variable.shape: (14135, 35)\n",
      "Y.shape: (14135, 327)\n",
      "X_variable.shape: (14135, 36)\n",
      "Y.shape: (14135, 327)\n",
      "X_variable.shape: (14135, 37)\n",
      "Y.shape: (14135, 327)\n",
      "X_variable.shape: (14135, 38)\n",
      "Y.shape: (14135, 327)\n",
      "X_variable.shape: (14135, 39)\n",
      "Y.shape: (14135, 327)\n",
      "X_variable.shape: (14135, 40)\n",
      "Y.shape: (14135, 327)\n",
      "X_variable.shape: (14135, 41)\n",
      "Y.shape: (14135, 327)\n",
      "X_variable.shape: (14135, 42)\n",
      "Y.shape: (14135, 327)\n",
      "X_variable.shape: (14135, 43)\n",
      "Y.shape: (14135, 327)\n",
      "X_variable.shape: (14135, 44)\n",
      "Y.shape: (14135, 327)\n",
      "X_variable.shape: (14135, 45)\n",
      "Y.shape: (14135, 327)\n",
      "X_variable.shape: (14135, 46)\n",
      "Y.shape: (14135, 327)\n",
      "X_variable.shape: (14135, 47)\n",
      "Y.shape: (14135, 327)\n",
      "X_variable.shape: (14135, 48)\n",
      "Y.shape: (14135, 327)\n",
      "X_variable.shape: (14135, 49)\n",
      "Y.shape: (14135, 327)\n",
      "X_variable.shape: (14135, 50)\n",
      "Y.shape: (14135, 327)\n",
      "X_variable.shape: (14135, 51)\n",
      "Y.shape: (14135, 327)\n",
      "X_variable.shape: (14135, 52)\n",
      "Y.shape: (14135, 327)\n",
      "X_variable.shape: (14135, 53)\n",
      "Y.shape: (14135, 327)\n",
      "X_variable.shape: (14135, 54)\n",
      "Y.shape: (14135, 327)\n",
      "X_variable.shape: (14135, 55)\n",
      "Y.shape: (14135, 327)\n",
      "X_variable.shape: (14135, 56)\n",
      "Y.shape: (14135, 327)\n",
      "X_variable.shape: (14135, 57)\n",
      "Y.shape: (14135, 327)\n",
      "X_variable.shape: (14135, 58)\n",
      "Y.shape: (14135, 327)\n",
      "X_variable.shape: (14135, 59)\n",
      "Y.shape: (14135, 327)\n",
      "X_variable.shape: (14135, 60)\n",
      "Y.shape: (14135, 327)\n",
      "X_variable.shape: (14135, 61)\n",
      "Y.shape: (14135, 327)\n",
      "X_variable.shape: (14135, 62)\n",
      "Y.shape: (14135, 327)\n",
      "X_variable.shape: (14135, 63)\n",
      "Y.shape: (14135, 327)\n",
      "X_variable.shape: (14135, 64)\n",
      "Y.shape: (14135, 327)\n",
      "X_variable.shape: (14135, 65)\n",
      "Y.shape: (14135, 327)\n",
      "X_variable.shape: (14135, 66)\n",
      "Y.shape: (14135, 327)\n",
      "X_variable.shape: (14135, 67)\n",
      "Y.shape: (14135, 327)\n",
      "X_variable.shape: (14135, 68)\n",
      "Y.shape: (14135, 327)\n",
      "    columnas  accuracy\n",
      "0          1  0.103290\n",
      "1          2  0.204103\n",
      "2          3  0.219314\n",
      "3          4  0.372833\n",
      "4          5  0.366820\n",
      "..       ...       ...\n",
      "63        64  0.188185\n",
      "64        65  0.209056\n",
      "65        66  0.232402\n",
      "66        67  0.288645\n",
      "67        68  0.194906\n",
      "\n",
      "[68 rows x 2 columns]\n"
     ]
    },
    {
     "data": {
      "image/png": "[encoded data removed]",
      "text/plain": [
       "<Figure size 800x400 with 1 Axes>"
      ]
     },
     "metadata": {},
     "output_type": "display_data"
    }
   ],
   "source": [
    "# Obtener las columnas sin valores vacíos\n",
    "columnas_sin_vacios = valores_vacios_str[valores_vacios_str == 0].index.tolist()\n",
    "\n",
    "# Ordenar las columnas restantes por cantidad de valores vacíos\n",
    "columnas_con_vacios = valores_vacios_str[valores_vacios_str > 0].sort_values().index.tolist()\n",
    "\n",
    "# Combinar las columnas en el orden deseado\n",
    "columnas_ordenadas = columnas_sin_vacios + columnas_con_vacios\n",
    "\n",
    "# Evaluar el modelo con diferentes cantidades de columnas\n",
    "resultados = []\n",
    "for i in range(1, len(columnas_ordenadas) + 1):\n",
    "    columnas_seleccionadas = columnas_ordenadas[:i]\n",
    "    # Encode categorical data into numeric values\n",
    "    X_variable = df[columnas_seleccionadas].apply(LabelEncoder().fit_transform).values\n",
    "    print('X_variable.shape:', X_variable.shape)\n",
    "    print('Y.shape:', Y.shape)\n",
    "\n",
    "    # Dividir los datos en entrenamiento y validación\n",
    "    x_train_var, x_val_var, y_train_var, y_val_var = train_test_split(\n",
    "        X_variable, Y, test_size=0.2, random_state=seed, stratify=Y\n",
    "    )\n",
    "\n",
    "    # Crear y entrenar el modelo\n",
    "    modelo = Sequential()\n",
    "    modelo.add(Input(shape=(x_train_var.shape[1],)))\n",
    "    modelo.add(Dense(32, activation=\"relu\"))\n",
    "    modelo.add(Dense(32, activation=\"relu\"))\n",
    "    modelo.add(Dense(32, activation=\"relu\"))\n",
    "    modelo.add(Dense(Y.shape[1], activation=\"softmax\"))\n",
    "    modelo.compile(optimizer=\"adam\", loss=\"categorical_crossentropy\", metrics=[\"accuracy\"])\n",
    "    modelo.fit(x_train_var, y_train_var, epochs=10, batch_size=32, verbose=0)\n",
    "\n",
    "    # Evaluar el modelo\n",
    "    loss, accuracy = modelo.evaluate(x_val_var, y_val_var, verbose=0)\n",
    "    resultados.append({\"columnas\": i, \"accuracy\": accuracy})\n",
    "\n",
    "# Mostrar los resultados\n",
    "resultados_df = pd.DataFrame(resultados)\n",
    "print(resultados_df)\n",
    "\n",
    "# Graficar los resultados\n",
    "plt.figure(figsize=(8, 4))\n",
    "plt.plot(resultados_df[\"columnas\"], resultados_df[\"accuracy\"], marker=\"o\", color=\"blue\")\n",
    "plt.title(\"Precisión del modelo vs Cantidad de columnas\")\n",
    "plt.xlabel(\"Cantidad de columnas\")\n",
    "plt.ylabel(\"Precisión\")\n",
    "plt.grid(alpha=0.5)\n",
    "plt.tight_layout()\n",
    "plt.show()"
   ]
  },
  {
   "cell_type": "markdown",
   "id": "d94aa4e6",
   "metadata": {},
   "source": [
    "### Ahora con Embedding"
   ]
  },
  {
   "cell_type": "code",
   "execution_count": 16,
   "id": "6d521eb2",
   "metadata": {
    "vscode": {
     "languageId": "ruby"
    }
   },
   "outputs": [
    {
     "name": "stdout",
     "output_type": "stream",
     "text": [
      "       Diag01  Proced01  Sexo (Desc)  GRD Grupo Etáreo\n",
      "0          22       347            0  287      Grupo 6\n",
      "1        1324        22            0   27      Grupo 7\n",
      "2         554       345            0   27      Grupo 9\n",
      "3         601       180            0   28      Grupo 8\n",
      "4        1302       178            0   28      Grupo 4\n",
      "...       ...       ...          ...  ...          ...\n",
      "14555     646       400            0  178      Grupo 7\n",
      "14556     167       370            1  187      Grupo 3\n",
      "14557    1138       362            0   15      Grupo 2\n",
      "14558     635       412            0  131      Grupo 8\n",
      "14560    1130       458            0   31      Grupo 9\n",
      "\n",
      "[14135 rows x 5 columns]\n",
      "X_optimo_encoded shape: (14135, 5)\n",
      "Y shape: (14135, 327)\n",
      "Vocabulario: 1364\n"
     ]
    }
   ],
   "source": [
    "# Obtener las columnas sin valores vacíos\n",
    "columnas_sin_vacios = valores_vacios_str[valores_vacios_str == 0].index.tolist()\n",
    "\n",
    "# Ordenar las columnas restantes por cantidad de valores vacíos\n",
    "columnas_con_vacios = valores_vacios_str[valores_vacios_str > 0].sort_values().index.tolist()\n",
    "\n",
    "# Combinar las columnas en el orden deseado\n",
    "columnas_ordenadas = columnas_sin_vacios + columnas_con_vacios\n",
    "\n",
    "# Seleccionar las primeras 5 columnas ordenadas\n",
    "X_optimo = df[columnas_ordenadas[:5]]  # Mantener los datos como están\n",
    "print(X_optimo)\n",
    "\n",
    "# Codificar las columnas seleccionadas con LabelEncoder\n",
    "X_optimo_encoded = X_optimo.apply(LabelEncoder().fit_transform)\n",
    "X_optimo_encoded = np.asarray(X_optimo_encoded)\n",
    "Y = np.asarray(Y)\n",
    "\n",
    "print(\"X_optimo_encoded shape:\", X_optimo_encoded.shape)\n",
    "print(\"Y shape:\", Y.shape)\n",
    "# Definir el vocabulario como el número de valores únicos en X_optimo_encoded\n",
    "vocabulary = len(np.unique(X_optimo_encoded))\n",
    "print(\"Vocabulario:\", vocabulary)"
   ]
  },
  {
   "cell_type": "code",
   "execution_count": 17,
   "id": "3c73bcab",
   "metadata": {
    "vscode": {
     "languageId": "ruby"
    }
   },
   "outputs": [
    {
     "data": {
      "text/plain": [
       "array([[  22,  347,    0,  287,    6],\n",
       "       [1324,   22,    0,   27,    7],\n",
       "       [ 554,  345,    0,   27,    9],\n",
       "       ...,\n",
       "       [1138,  362,    0,   15,    2],\n",
       "       [ 635,  412,    0,  131,    8],\n",
       "       [1130,  458,    0,   31,    9]])"
      ]
     },
     "execution_count": 17,
     "metadata": {},
     "output_type": "execute_result"
    }
   ],
   "source": [
    "X_optimo_encoded"
   ]
  },
  {
   "cell_type": "code",
   "execution_count": 18,
   "id": "cdb76685",
   "metadata": {
    "vscode": {
     "languageId": "ruby"
    }
   },
   "outputs": [
    {
     "data": {
      "text/html": [
       "<pre style=\"white-space:pre;overflow-x:auto;line-height:normal;font-family:Menlo,'DejaVu Sans Mono',consolas,'Courier New',monospace\"><span style=\"font-weight: bold\">Model: \"sequential\"</span>\n",
       "</pre>\n"
      ],
      "text/plain": [
       "\u001b[1mModel: \"sequential\"\u001b[0m\n"
      ]
     },
     "metadata": {},
     "output_type": "display_data"
    },
    {
     "data": {
      "text/html": [
       "<pre style=\"white-space:pre;overflow-x:auto;line-height:normal;font-family:Menlo,'DejaVu Sans Mono',consolas,'Courier New',monospace\">┏━━━━━━━━━━━━━━━━━━━━━━━━━━━━━━━━━┳━━━━━━━━━━━━━━━━━━━━━━━━┳━━━━━━━━━━━━━━━┓\n",
       "┃<span style=\"font-weight: bold\"> Layer (type)                    </span>┃<span style=\"font-weight: bold\"> Output Shape           </span>┃<span style=\"font-weight: bold\">       Param # </span>┃\n",
       "┡━━━━━━━━━━━━━━━━━━━━━━━━━━━━━━━━━╇━━━━━━━━━━━━━━━━━━━━━━━━╇━━━━━━━━━━━━━━━┩\n",
       "│ embedding (<span style=\"color: #0087ff; text-decoration-color: #0087ff\">Embedding</span>)           │ ?                      │   <span style=\"color: #00af00; text-decoration-color: #00af00\">0</span> (unbuilt) │\n",
       "├─────────────────────────────────┼────────────────────────┼───────────────┤\n",
       "│ flatten (<span style=\"color: #0087ff; text-decoration-color: #0087ff\">Flatten</span>)               │ ?                      │   <span style=\"color: #00af00; text-decoration-color: #00af00\">0</span> (unbuilt) │\n",
       "├─────────────────────────────────┼────────────────────────┼───────────────┤\n",
       "│ dense (<span style=\"color: #0087ff; text-decoration-color: #0087ff\">Dense</span>)                   │ ?                      │   <span style=\"color: #00af00; text-decoration-color: #00af00\">0</span> (unbuilt) │\n",
       "├─────────────────────────────────┼────────────────────────┼───────────────┤\n",
       "│ dense_1 (<span style=\"color: #0087ff; text-decoration-color: #0087ff\">Dense</span>)                 │ ?                      │   <span style=\"color: #00af00; text-decoration-color: #00af00\">0</span> (unbuilt) │\n",
       "├─────────────────────────────────┼────────────────────────┼───────────────┤\n",
       "│ dense_2 (<span style=\"color: #0087ff; text-decoration-color: #0087ff\">Dense</span>)                 │ ?                      │   <span style=\"color: #00af00; text-decoration-color: #00af00\">0</span> (unbuilt) │\n",
       "├─────────────────────────────────┼────────────────────────┼───────────────┤\n",
       "│ dense_3 (<span style=\"color: #0087ff; text-decoration-color: #0087ff\">Dense</span>)                 │ ?                      │   <span style=\"color: #00af00; text-decoration-color: #00af00\">0</span> (unbuilt) │\n",
       "└─────────────────────────────────┴────────────────────────┴───────────────┘\n",
       "</pre>\n"
      ],
      "text/plain": [
       "┏━━━━━━━━━━━━━━━━━━━━━━━━━━━━━━━━━┳━━━━━━━━━━━━━━━━━━━━━━━━┳━━━━━━━━━━━━━━━┓\n",
       "┃\u001b[1m \u001b[0m\u001b[1mLayer (type)                   \u001b[0m\u001b[1m \u001b[0m┃\u001b[1m \u001b[0m\u001b[1mOutput Shape          \u001b[0m\u001b[1m \u001b[0m┃\u001b[1m \u001b[0m\u001b[1m      Param #\u001b[0m\u001b[1m \u001b[0m┃\n",
       "┡━━━━━━━━━━━━━━━━━━━━━━━━━━━━━━━━━╇━━━━━━━━━━━━━━━━━━━━━━━━╇━━━━━━━━━━━━━━━┩\n",
       "│ embedding (\u001b[38;5;33mEmbedding\u001b[0m)           │ ?                      │   \u001b[38;5;34m0\u001b[0m (unbuilt) │\n",
       "├─────────────────────────────────┼────────────────────────┼───────────────┤\n",
       "│ flatten (\u001b[38;5;33mFlatten\u001b[0m)               │ ?                      │   \u001b[38;5;34m0\u001b[0m (unbuilt) │\n",
       "├─────────────────────────────────┼────────────────────────┼───────────────┤\n",
       "│ dense (\u001b[38;5;33mDense\u001b[0m)                   │ ?                      │   \u001b[38;5;34m0\u001b[0m (unbuilt) │\n",
       "├─────────────────────────────────┼────────────────────────┼───────────────┤\n",
       "│ dense_1 (\u001b[38;5;33mDense\u001b[0m)                 │ ?                      │   \u001b[38;5;34m0\u001b[0m (unbuilt) │\n",
       "├─────────────────────────────────┼────────────────────────┼───────────────┤\n",
       "│ dense_2 (\u001b[38;5;33mDense\u001b[0m)                 │ ?                      │   \u001b[38;5;34m0\u001b[0m (unbuilt) │\n",
       "├─────────────────────────────────┼────────────────────────┼───────────────┤\n",
       "│ dense_3 (\u001b[38;5;33mDense\u001b[0m)                 │ ?                      │   \u001b[38;5;34m0\u001b[0m (unbuilt) │\n",
       "└─────────────────────────────────┴────────────────────────┴───────────────┘\n"
      ]
     },
     "metadata": {},
     "output_type": "display_data"
    },
    {
     "data": {
      "text/html": [
       "<pre style=\"white-space:pre;overflow-x:auto;line-height:normal;font-family:Menlo,'DejaVu Sans Mono',consolas,'Courier New',monospace\"><span style=\"font-weight: bold\"> Total params: </span><span style=\"color: #00af00; text-decoration-color: #00af00\">0</span> (0.00 B)\n",
       "</pre>\n"
      ],
      "text/plain": [
       "\u001b[1m Total params: \u001b[0m\u001b[38;5;34m0\u001b[0m (0.00 B)\n"
      ]
     },
     "metadata": {},
     "output_type": "display_data"
    },
    {
     "data": {
      "text/html": [
       "<pre style=\"white-space:pre;overflow-x:auto;line-height:normal;font-family:Menlo,'DejaVu Sans Mono',consolas,'Courier New',monospace\"><span style=\"font-weight: bold\"> Trainable params: </span><span style=\"color: #00af00; text-decoration-color: #00af00\">0</span> (0.00 B)\n",
       "</pre>\n"
      ],
      "text/plain": [
       "\u001b[1m Trainable params: \u001b[0m\u001b[38;5;34m0\u001b[0m (0.00 B)\n"
      ]
     },
     "metadata": {},
     "output_type": "display_data"
    },
    {
     "data": {
      "text/html": [
       "<pre style=\"white-space:pre;overflow-x:auto;line-height:normal;font-family:Menlo,'DejaVu Sans Mono',consolas,'Courier New',monospace\"><span style=\"font-weight: bold\"> Non-trainable params: </span><span style=\"color: #00af00; text-decoration-color: #00af00\">0</span> (0.00 B)\n",
       "</pre>\n"
      ],
      "text/plain": [
       "\u001b[1m Non-trainable params: \u001b[0m\u001b[38;5;34m0\u001b[0m (0.00 B)\n"
      ]
     },
     "metadata": {},
     "output_type": "display_data"
    }
   ],
   "source": [
    "modelo = Sequential()\n",
    "modelo.add(Embedding(input_dim=vocabulary, output_dim=64))  # Capa de Embedding\n",
    "modelo.add(Flatten())  # Aplana la salida para que sea bidimensional\n",
    "modelo.add(Dense(32, activation=\"relu\"))  # Capa oculta\n",
    "modelo.add(Dense(32, activation=\"relu\"))  # Capa oculta\n",
    "modelo.add(Dense(32, activation=\"relu\"))  # Capa oculta\n",
    "modelo.add(Dense(Y.shape[1], activation=\"softmax\"))  # Capa de salida\n",
    "modelo.compile(optimizer=\"adam\", loss=\"categorical_crossentropy\", metrics=[\"accuracy\"])\n",
    "modelo.summary()"
   ]
  },
  {
   "cell_type": "markdown",
   "id": "1f9a14cb",
   "metadata": {},
   "source": [
    "Hay que eliminar las clases que tienen menos de 5 elementos"
   ]
  },
  {
   "cell_type": "code",
   "execution_count": 76,
   "id": "90e48c17",
   "metadata": {},
   "outputs": [
    {
     "name": "stdout",
     "output_type": "stream",
     "text": [
      "Epoch 1/16\n",
      "354/354 - 3s - 8ms/step - acc: 0.3511 - loss: 3.3527 - val_acc: 0.7312 - val_loss: 1.4350\n",
      "Epoch 2/16\n",
      "354/354 - 1s - 3ms/step - acc: 0.8376 - loss: 0.8671 - val_acc: 0.9087 - val_loss: 0.4445\n",
      "Epoch 3/16\n",
      "354/354 - 1s - 4ms/step - acc: 0.9362 - loss: 0.2889 - val_acc: 0.9629 - val_loss: 0.1616\n",
      "Epoch 4/16\n",
      "354/354 - 1s - 3ms/step - acc: 0.9774 - loss: 0.0977 - val_acc: 0.9880 - val_loss: 0.0540\n",
      "Epoch 5/16\n",
      "354/354 - 1s - 3ms/step - acc: 0.9900 - loss: 0.0386 - val_acc: 0.9933 - val_loss: 0.0304\n",
      "Epoch 6/16\n",
      "354/354 - 1s - 3ms/step - acc: 0.9977 - loss: 0.0134 - val_acc: 0.9989 - val_loss: 0.0095\n",
      "Epoch 7/16\n",
      "354/354 - 1s - 3ms/step - acc: 0.9997 - loss: 0.0044 - val_acc: 1.0000 - val_loss: 0.0048\n",
      "Epoch 8/16\n",
      "354/354 - 1s - 3ms/step - acc: 0.9999 - loss: 0.0017 - val_acc: 1.0000 - val_loss: 0.0029\n",
      "Epoch 9/16\n",
      "354/354 - 1s - 3ms/step - acc: 1.0000 - loss: 8.7532e-04 - val_acc: 1.0000 - val_loss: 0.0021\n",
      "Epoch 10/16\n",
      "354/354 - 1s - 3ms/step - acc: 1.0000 - loss: 5.6855e-04 - val_acc: 1.0000 - val_loss: 0.0016\n",
      "Epoch 11/16\n",
      "354/354 - 1s - 3ms/step - acc: 1.0000 - loss: 4.2157e-04 - val_acc: 1.0000 - val_loss: 0.0014\n",
      "Epoch 12/16\n",
      "354/354 - 1s - 3ms/step - acc: 1.0000 - loss: 3.0891e-04 - val_acc: 1.0000 - val_loss: 0.0012\n",
      "Epoch 13/16\n",
      "354/354 - 1s - 3ms/step - acc: 1.0000 - loss: 2.3454e-04 - val_acc: 1.0000 - val_loss: 9.7352e-04\n",
      "Epoch 14/16\n",
      "354/354 - 1s - 3ms/step - acc: 1.0000 - loss: 1.7787e-04 - val_acc: 1.0000 - val_loss: 8.5708e-04\n",
      "Epoch 15/16\n",
      "354/354 - 1s - 3ms/step - acc: 1.0000 - loss: 1.4093e-04 - val_acc: 1.0000 - val_loss: 7.5096e-04\n",
      "Epoch 16/16\n",
      "354/354 - 1s - 3ms/step - acc: 1.0000 - loss: 1.0926e-04 - val_acc: 1.0000 - val_loss: 6.6159e-04\n"
     ]
    }
   ],
   "source": [
    "x_train, x_val, y_train, y_val = train_test_split(X_optimo_encoded, Y, test_size=0.2, stratify=Y, random_state=seed)\n",
    "modelo.compile(optimizer=\"Adam\",loss=\"categorical_crossentropy\",metrics=[\"acc\"])\n",
    "spam_emb = modelo.fit(x_train, y_train, validation_data=(x_val,y_val), batch_size=32, epochs=16,verbose=2,)"
   ]
  },
  {
   "cell_type": "code",
   "execution_count": 77,
   "id": "c8e2b1f8",
   "metadata": {},
   "outputs": [],
   "source": [
    "def build_model(hp):\n",
    "    modelo = Sequential()\n",
    "    modelo.add(Embedding(input_dim=vocabulary, output_dim=hp.Choice(\"capas\", [8, 16, 32, 64, 128])))  # Capa de Embedding\n",
    "    modelo.add(Flatten())  # Aplana la salida para que sea bidimensional\n",
    "    modelo.add(Dense(32, activation=\"relu\"))  # Capa oculta\n",
    "    modelo.add(Dense(32, activation=\"relu\"))  # Capa oculta\n",
    "    modelo.add(Dense(32, activation=\"relu\"))  # Capa oculta\n",
    "    modelo.add(Dense(Y.shape[1], activation=\"softmax\"))  # Capa de salida\n",
    "    modelo.compile(optimizer=\"adam\", loss=\"categorical_crossentropy\", metrics=[\"accuracy\"])\n",
    "    return modelo"
   ]
  },
  {
   "cell_type": "code",
   "execution_count": null,
   "id": "a90c1bdb",
   "metadata": {},
   "outputs": [
    {
     "data": {
      "text/plain": [
       "(11228, 5)"
      ]
     },
     "execution_count": 75,
     "metadata": {},
     "output_type": "execute_result"
    }
   ],
   "source": []
  },
  {
   "cell_type": "code",
   "execution_count": 81,
   "id": "39dc0dcf",
   "metadata": {},
   "outputs": [],
   "source": [
    "tuner=keras_tuner.RandomSearch(\n",
    "    hypermodel=build_model,\n",
    "    objective=keras_tuner.Objective(\"val_accuracy\",direction=\"max\"),\n",
    "    max_trials=32,\n",
    "    executions_per_trial=1,\n",
    "    overwrite=True,\n",
    "    directory=\"modelos\",\n",
    "    project_name=\"reprobacion\"\n",
    ")"
   ]
  },
  {
   "cell_type": "code",
   "execution_count": 82,
   "id": "1d9bb2fb",
   "metadata": {},
   "outputs": [
    {
     "name": "stdout",
     "output_type": "stream",
     "text": [
      "Search space summary\n",
      "Default search space size: 1\n",
      "capas (Choice)\n",
      "{'default': 8, 'conditions': [], 'values': [8, 16, 32, 64, 128], 'ordered': True}\n"
     ]
    }
   ],
   "source": [
    "tuner.search_space_summary()"
   ]
  },
  {
   "cell_type": "code",
   "execution_count": 66,
   "id": "558bcc7b",
   "metadata": {},
   "outputs": [
    {
     "data": {
      "text/plain": [
       "327"
      ]
     },
     "execution_count": 66,
     "metadata": {},
     "output_type": "execute_result"
    }
   ],
   "source": [
    "len(y_train[0])"
   ]
  },
  {
   "cell_type": "code",
   "execution_count": 83,
   "id": "6c18569c",
   "metadata": {},
   "outputs": [
    {
     "name": "stdout",
     "output_type": "stream",
     "text": [
      "Trial 5 Complete [00h 00m 17s]\n",
      "val_accuracy: 0.9996462464332581\n",
      "\n",
      "Best val_accuracy So Far: 0.9996462464332581\n",
      "Total elapsed time: 00h 01m 14s\n"
     ]
    }
   ],
   "source": [
    "tuner.search(x_train,y_train,epochs=8,validation_data=(x_val,y_val),batch_size=32,verbose=1)"
   ]
  },
  {
   "cell_type": "code",
   "execution_count": null,
   "id": "98f8d902",
   "metadata": {},
   "outputs": [],
   "source": [
    "mejor_modelo=tuner.get_best_models()[0]\n",
    "mejor_modelo.summary()"
   ]
  },
  {
   "cell_type": "code",
   "execution_count": 85,
   "id": "fccd0205",
   "metadata": {},
   "outputs": [
    {
     "name": "stdout",
     "output_type": "stream",
     "text": [
      "\u001b[1m89/89\u001b[0m \u001b[32m━━━━━━━━━━━━━━━━━━━━\u001b[0m\u001b[37m\u001b[0m \u001b[1m0s\u001b[0m 2ms/step\n"
     ]
    }
   ],
   "source": [
    "y_pred_probs=mejor_modelo.predict(x_val)"
   ]
  },
  {
   "cell_type": "code",
   "execution_count": 88,
   "id": "fff022e3",
   "metadata": {},
   "outputs": [
    {
     "data": {
      "text/plain": [
       "array([1257,  362,    1,  313,    6])"
      ]
     },
     "execution_count": 88,
     "metadata": {},
     "output_type": "execute_result"
    }
   ],
   "source": [
    "x_val[0]"
   ]
  },
  {
   "cell_type": "code",
   "execution_count": 87,
   "id": "ea9e7e0d",
   "metadata": {},
   "outputs": [
    {
     "data": {
      "text/plain": [
       "np.float64(99.96462681287585)"
      ]
     },
     "execution_count": 87,
     "metadata": {},
     "output_type": "execute_result"
    }
   ],
   "source": [
    "y_pred=np.argmax(y_pred_probs,axis=1)\n",
    "y_true=np.argmax(y_val,axis=1)\n",
    "sum(y_pred == y_true) / len(y_pred) * 100"
   ]
  },
  {
   "cell_type": "code",
   "execution_count": 53,
   "id": "d7b396f2",
   "metadata": {},
   "outputs": [],
   "source": [
    "from sklearn.metrics import confusion_matrix\n",
    "from sklearn.metrics import precision_score\n",
    "from sklearn.metrics import accuracy_score\n",
    "from sklearn.metrics import recall_score\n",
    "from sklearn.metrics import roc_curve\n",
    "from sklearn.metrics import precision_recall_curve\n",
    "from sklearn.metrics import auc\n",
    "\n",
    "import seaborn as sns\n",
    "from sklearn.preprocessing import label_binarize"
   ]
  },
  {
   "cell_type": "code",
   "execution_count": 89,
   "id": "4bb16f5e",
   "metadata": {},
   "outputs": [
    {
     "data": {
      "text/plain": [
       "np.int64(2826)"
      ]
     },
     "execution_count": 89,
     "metadata": {},
     "output_type": "execute_result"
    }
   ],
   "source": [
    "# Para multiclase, selecciona la clase con la mayor probabilidad\n",
    "y_pred = np.argmax(y_pred_probs, axis=1)\n",
    "y_val_classes = np.argmax(y_val, axis=1)  # Convertir one-hot encoding a clases\n",
    "\n",
    "sum(y_pred == y_val_classes)"
   ]
  },
  {
   "cell_type": "code",
   "execution_count": null,
   "id": "f950a119",
   "metadata": {},
   "outputs": [],
   "source": [
    "# Para multiclase, selecciona la clase con la mayor probabilidad\n",
    "y_pred = np.argmax(y_pred_probs, axis=1)\n",
    "y_val_classes = np.argmax(y_val, axis=1)  # Convertir one-hot encoding a clases\n",
    "\n",
    "print(y_pred)\n",
    "\n",
    "fig, axes = plt.subplots(1, 2)\n",
    "fig.set_size_inches(10, 4)\n",
    "\n",
    "roc_aucs = []\n",
    "\n",
    "# # Matriz de confusión\n",
    "# matriz = confusion_matrix(y_val_classes, y_pred)\n",
    "# ax = axes[0]\n",
    "# sns.heatmap(matriz, annot=True, ax=ax, cmap=\"Blues\", fmt=\"d\")\n",
    "# ax.set_title(\"Rec=\" + str(round(recall_score(y_val_classes, y_pred, average='macro'), 2)) +\n",
    "#              \" Acc=\" + str(round(accuracy_score(y_val_classes, y_pred), 2)) +\n",
    "#              \" Pre=\" + str(round(precision_score(y_val_classes, y_pred, average='macro'), 2)))\n",
    "# axes[0].set_xlabel('Predicted')\n",
    "# axes[0].set_ylabel('Real')\n",
    "\n",
    "# ROC Curve (requiere binarización para multiclase)\n",
    "y_val_binarized = label_binarize(y_val_classes, classes=range(len(np.unique(y_val_classes))))\n",
    "fpr = {}\n",
    "tpr = {}\n",
    "roc_auc = {}\n",
    "for i in range(y_val_binarized.shape[1]):\n",
    "    fpr[i], tpr[i], _ = roc_curve(y_val_binarized[:, i], y_pred_probs[:, i])\n",
    "    roc_auc[i] = auc(fpr[i], tpr[i])\n",
    "\n",
    "# Plot ROC Curve para cada clase\n",
    "for i in range(len(roc_auc)):\n",
    "    axes[0].plot(fpr[i], tpr[i])#, label=f'Class {i} (area = {roc_auc[i]:0.2f})')\n",
    "axes[0].plot([0, 1], [0, 1], '--', label='No Skill')\n",
    "axes[0].set_xlabel('False Positive Rate')\n",
    "axes[0].set_ylabel('True Positive Rate')\n",
    "axes[0].set_title('ROC Curve')\n",
    "axes[0].legend()\n",
    "\n",
    "# Precision-Recall Curve\n",
    "lr_precision = {}\n",
    "lr_recall = {}\n",
    "pr_auc = {}\n",
    "for i in range(y_val_binarized.shape[1]):\n",
    "    lr_precision[i], lr_recall[i], _ = precision_recall_curve(y_val_binarized[:, i], y_pred_probs[:, i])\n",
    "    pr_auc[i] = auc(lr_recall[i], lr_precision[i])\n",
    "\n",
    "# Plot Precision-Recall Curve para cada clase\n",
    "for i in range(len(pr_auc)):\n",
    "    axes[1].plot(lr_recall[i], lr_precision[i], marker='.')#, label=f'Class {i} (area = {pr_auc[i]:0.2f})')\n",
    "axes[1].set_xlabel('Recall')\n",
    "axes[1].set_ylabel('Precision')\n",
    "axes[1].set_title('PR-RC Curve')\n",
    "axes[1].legend()\n",
    "\n",
    "print(\"Rec=\" + str(round(recall_score(y_val_classes, y_pred, average='macro'), 2)) +\n",
    "              \" Acc=\" + str(round(accuracy_score(y_val_classes, y_pred), 2)) +\n",
    "              \" Pre=\" + str(round(precision_score(y_val_classes, y_pred, average='macro'), 2)))\n"
   ]
  }
 ],
 "metadata": {
  "kernelspec": {
   "display_name": "Python 3",
   "language": "python",
   "name": "python3"
  },
  "language_info": {
   "codemirror_mode": {
    "name": "ipython",
    "version": 3
   },
   "file_extension": ".py",
   "mimetype": "text/x-python",
   "name": "python",
   "nbconvert_exporter": "python",
   "pygments_lexer": "ipython3",
   "version": "3.12.5"
  }
 },
 "nbformat": 4,
 "nbformat_minor": 5
}
